{
 "cells": [
  {
   "cell_type": "code",
   "execution_count": 10,
   "id": "c028a677-e2f4-4218-91c9-364a5a494dae",
   "metadata": {},
   "outputs": [],
   "source": [
    "import numpy as np\n",
    "import matplotlib.pyplot as plt\n",
    "import pandas as pd\n",
    "from apyori import apriori"
   ]
  },
  {
   "cell_type": "code",
   "execution_count": 11,
   "id": "134f10c3-9d2f-4f2d-90cf-814504a2a573",
   "metadata": {},
   "outputs": [],
   "source": [
    "# data = pd.read_csv('retails.csv')\n",
    "# data.head()"
   ]
  },
  {
   "cell_type": "code",
   "execution_count": 24,
   "id": "27d0ab3e-fd4c-4820-b3c9-3a638d85c892",
   "metadata": {},
   "outputs": [
    {
     "data": {
      "text/html": [
       "<div>\n",
       "<style scoped>\n",
       "    .dataframe tbody tr th:only-of-type {\n",
       "        vertical-align: middle;\n",
       "    }\n",
       "\n",
       "    .dataframe tbody tr th {\n",
       "        vertical-align: top;\n",
       "    }\n",
       "\n",
       "    .dataframe thead th {\n",
       "        text-align: right;\n",
       "    }\n",
       "</style>\n",
       "<table border=\"1\" class=\"dataframe\">\n",
       "  <thead>\n",
       "    <tr style=\"text-align: right;\">\n",
       "      <th></th>\n",
       "      <th>InvoiceNo</th>\n",
       "      <th>StockCode</th>\n",
       "      <th>Description</th>\n",
       "      <th>Quantity</th>\n",
       "      <th>CustomerID</th>\n",
       "    </tr>\n",
       "  </thead>\n",
       "  <tbody>\n",
       "    <tr>\n",
       "      <th>0</th>\n",
       "      <td>536365</td>\n",
       "      <td>85123A</td>\n",
       "      <td>WHITE HANGING HEART T-LIGHT HOLDER</td>\n",
       "      <td>6</td>\n",
       "      <td>17850.0</td>\n",
       "    </tr>\n",
       "    <tr>\n",
       "      <th>1</th>\n",
       "      <td>536365</td>\n",
       "      <td>71053</td>\n",
       "      <td>WHITE METAL LANTERN</td>\n",
       "      <td>6</td>\n",
       "      <td>17850.0</td>\n",
       "    </tr>\n",
       "    <tr>\n",
       "      <th>2</th>\n",
       "      <td>536365</td>\n",
       "      <td>84406B</td>\n",
       "      <td>CREAM CUPID HEARTS COAT HANGER</td>\n",
       "      <td>8</td>\n",
       "      <td>17850.0</td>\n",
       "    </tr>\n",
       "    <tr>\n",
       "      <th>3</th>\n",
       "      <td>536365</td>\n",
       "      <td>84029G</td>\n",
       "      <td>KNITTED UNION FLAG HOT WATER BOTTLE</td>\n",
       "      <td>6</td>\n",
       "      <td>17850.0</td>\n",
       "    </tr>\n",
       "    <tr>\n",
       "      <th>4</th>\n",
       "      <td>536365</td>\n",
       "      <td>84029E</td>\n",
       "      <td>RED WOOLLY HOTTIE WHITE HEART.</td>\n",
       "      <td>6</td>\n",
       "      <td>17850.0</td>\n",
       "    </tr>\n",
       "  </tbody>\n",
       "</table>\n",
       "</div>"
      ],
      "text/plain": [
       "  InvoiceNo StockCode                          Description  Quantity  \\\n",
       "0    536365    85123A   WHITE HANGING HEART T-LIGHT HOLDER         6   \n",
       "1    536365     71053                  WHITE METAL LANTERN         6   \n",
       "2    536365    84406B       CREAM CUPID HEARTS COAT HANGER         8   \n",
       "3    536365    84029G  KNITTED UNION FLAG HOT WATER BOTTLE         6   \n",
       "4    536365    84029E       RED WOOLLY HOTTIE WHITE HEART.         6   \n",
       "\n",
       "   CustomerID  \n",
       "0     17850.0  \n",
       "1     17850.0  \n",
       "2     17850.0  \n",
       "3     17850.0  \n",
       "4     17850.0  "
      ]
     },
     "execution_count": 24,
     "metadata": {},
     "output_type": "execute_result"
    }
   ],
   "source": [
    "C_use = ['InvoiceNo', 'StockCode', 'Description', 'Quantity', 'CustomerID']\n",
    "data = pd.read_csv('retails.csv',usecols=C_use,nrows=1000)\n",
    "data.head()"
   ]
  },
  {
   "cell_type": "code",
   "execution_count": 25,
   "id": "bee10a9c-92b1-4b9a-bcfb-787b414b3787",
   "metadata": {},
   "outputs": [
    {
     "name": "stdout",
     "output_type": "stream",
     "text": [
      "1000\n"
     ]
    }
   ],
   "source": [
    "num_record = len(data)\n",
    "print(num_record)"
   ]
  },
  {
   "cell_type": "code",
   "execution_count": 28,
   "id": "98c63195-1530-4945-bab0-27106db4e999",
   "metadata": {},
   "outputs": [],
   "source": [
    "records = []\n",
    "for i in range(0,1000):\n",
    "    records.append([str(data.values[i,j]) for j in range(0,5)])\n"
   ]
  },
  {
   "cell_type": "code",
   "execution_count": 29,
   "id": "22dcc1bd-03cf-465b-a29b-acfae1f29f36",
   "metadata": {},
   "outputs": [],
   "source": [
    "asso_rules = apriori(records,min_support=0.02, min_confidence=0.2,min_lift=3,min_length=2)\n",
    "asso_results = list(asso_rules)"
   ]
  },
  {
   "cell_type": "code",
   "execution_count": 30,
   "id": "c95d8d30-f864-4a4f-97ef-0c626f5b8f3f",
   "metadata": {},
   "outputs": [
    {
     "name": "stdout",
     "output_type": "stream",
     "text": [
      "26\n"
     ]
    }
   ],
   "source": [
    "print(len(asso_results))"
   ]
  },
  {
   "cell_type": "code",
   "execution_count": 31,
   "id": "31deae89-eb08-4241-9857-28ec04acf288",
   "metadata": {},
   "outputs": [
    {
     "name": "stdout",
     "output_type": "stream",
     "text": [
      "RelationRecord(items=frozenset({'12', '14307.0'}), support=0.02, ordered_statistics=[OrderedStatistic(items_base=frozenset({'14307.0'}), items_add=frozenset({'12'}), confidence=0.4166666666666667, lift=3.5919540229885056)])\n"
     ]
    }
   ],
   "source": [
    "print(asso_results[0])"
   ]
  },
  {
   "cell_type": "code",
   "execution_count": 32,
   "id": "0d559f46-0266-4163-985e-6b0eb85c1fa4",
   "metadata": {},
   "outputs": [
    {
     "name": "stdout",
     "output_type": "stream",
     "text": [
      "Rule: 12 -> 14307.0\n",
      "Support: 0.02\n",
      "Confidence: 0.4166666666666667\n",
      "Lift: 3.5919540229885056\n",
      "=================================\n",
      "Rule: 12 -> 536408\n",
      "Support: 0.02\n",
      "Confidence: 0.4166666666666667\n",
      "Lift: 3.5919540229885056\n",
      "=================================\n",
      "Rule: 536370 -> 12583.0\n",
      "Support: 0.02\n",
      "Confidence: 1.0\n",
      "Lift: 50.0\n",
      "=================================\n",
      "Rule: 12838.0 -> 3\n",
      "Support: 0.027\n",
      "Confidence: 0.4576271186440678\n",
      "Lift: 4.817127564674398\n",
      "=================================\n",
      "Rule: 536415 -> 12838.0\n",
      "Support: 0.059\n",
      "Confidence: 1.0\n",
      "Lift: 16.949152542372882\n",
      "=================================\n",
      "Rule: 14307.0 -> 536408\n",
      "Support: 0.048\n",
      "Confidence: 1.0\n",
      "Lift: 20.833333333333332\n",
      "=================================\n",
      "Rule: 14729.0 -> 536520\n",
      "Support: 0.055\n",
      "Confidence: 1.0\n",
      "Lift: 18.181818181818183\n",
      "=================================\n",
      "Rule: 536381 -> 15311.0\n",
      "Support: 0.035\n",
      "Confidence: 0.9722222222222224\n",
      "Lift: 27.777777777777782\n",
      "=================================\n",
      "Rule: 536401 -> 15862.0\n",
      "Support: 0.064\n",
      "Confidence: 1.0\n",
      "Lift: 15.625\n",
      "=================================\n",
      "Rule: 536446 -> 15983.0\n",
      "Support: 0.032\n",
      "Confidence: 1.0\n",
      "Lift: 31.25\n",
      "=================================\n",
      "Rule: 536404 -> 16218.0\n",
      "Support: 0.028\n",
      "Confidence: 1.0\n",
      "Lift: 35.714285714285715\n",
      "=================================\n",
      "Rule: 536390 -> 17511.0\n",
      "Support: 0.024\n",
      "Confidence: 1.0\n",
      "Lift: 41.666666666666664\n",
      "=================================\n",
      "Rule: 6 -> 17850.0\n",
      "Support: 0.061\n",
      "Confidence: 0.7261904761904762\n",
      "Lift: 5.9523809523809526\n",
      "=================================\n",
      "Rule: 17897.0 -> 536488\n",
      "Support: 0.035\n",
      "Confidence: 0.9722222222222224\n",
      "Lift: 27.777777777777782\n",
      "=================================\n",
      "Rule: 17908.0 -> 536409\n",
      "Support: 0.058\n",
      "Confidence: 1.0\n",
      "Lift: 17.241379310344826\n",
      "=================================\n",
      "Rule: 536412 -> 17920.0\n",
      "Support: 0.081\n",
      "Confidence: 1.0\n",
      "Lift: 12.345679012345679\n",
      "=================================\n",
      "Rule: 17968.0 -> 536464\n",
      "Support: 0.085\n",
      "Confidence: 1.0\n",
      "Lift: 11.76470588235294\n",
      "=================================\n",
      "Rule: 536415 -> 3\n",
      "Support: 0.027\n",
      "Confidence: 0.28421052631578947\n",
      "Lift: 4.817127564674398\n",
      "=================================\n",
      "Rule: 14729.0 -> 536520\n",
      "Support: 0.023\n",
      "Confidence: 0.41818181818181815\n",
      "Lift: 18.18181818181818\n",
      "=================================\n",
      "Rule: 1 -> 536401\n",
      "Support: 0.035\n",
      "Confidence: 0.546875\n",
      "Lift: 15.624999999999998\n",
      "=================================\n",
      "Rule: 17897.0 -> 1\n",
      "Support: 0.023\n",
      "Confidence: 0.638888888888889\n",
      "Lift: 27.777777777777782\n",
      "=================================\n",
      "Rule: 17908.0 -> 1\n",
      "Support: 0.04\n",
      "Confidence: 0.689655172413793\n",
      "Lift: 17.241379310344826\n",
      "=================================\n",
      "Rule: 536412 -> 17920.0\n",
      "Support: 0.037\n",
      "Confidence: 0.4567901234567901\n",
      "Lift: 12.345679012345679\n",
      "=================================\n",
      "Rule: 17968.0 -> 1\n",
      "Support: 0.054\n",
      "Confidence: 0.6352941176470588\n",
      "Lift: 11.76470588235294\n",
      "=================================\n",
      "Rule: 12 -> 14307.0\n",
      "Support: 0.02\n",
      "Confidence: 0.4166666666666667\n",
      "Lift: 20.833333333333332\n",
      "=================================\n",
      "Rule: 536415 -> 12838.0\n",
      "Support: 0.027\n",
      "Confidence: 0.4576271186440678\n",
      "Lift: 16.949152542372882\n",
      "=================================\n"
     ]
    }
   ],
   "source": [
    "for item in asso_results:\n",
    "    pair = item[0];\n",
    "    items = [x for x in pair]\n",
    "    print(\"Rule: \" + items[0] + \" -> \" + items[1])\n",
    "    print(\"Support: \" + str(item[1]))\n",
    "    print(\"Confidence: \" + str(item[2][0][2]))\n",
    "    print(\"Lift: \" + str(item[2][0][3]))\n",
    "    print(\"=================================\")"
   ]
  },
  {
   "cell_type": "code",
   "execution_count": null,
   "id": "5ff6d1fa-e6a0-40f2-ac8c-8cc655c2246b",
   "metadata": {},
   "outputs": [],
   "source": []
  },
  {
   "cell_type": "code",
   "execution_count": null,
   "id": "8a2a4ba2-7d2b-4138-b414-7476f80a3fe3",
   "metadata": {},
   "outputs": [],
   "source": []
  }
 ],
 "metadata": {
  "kernelspec": {
   "display_name": "Python 3 (ipykernel)",
   "language": "python",
   "name": "python3"
  },
  "language_info": {
   "codemirror_mode": {
    "name": "ipython",
    "version": 3
   },
   "file_extension": ".py",
   "mimetype": "text/x-python",
   "name": "python",
   "nbconvert_exporter": "python",
   "pygments_lexer": "ipython3",
   "version": "3.12.3"
  }
 },
 "nbformat": 4,
 "nbformat_minor": 5
}

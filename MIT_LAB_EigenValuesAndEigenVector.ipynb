{
  "nbformat": 4,
  "nbformat_minor": 0,
  "metadata": {
    "colab": {
      "provenance": [],
      "authorship_tag": "ABX9TyMlfVWQ04718+FAu7DilYap",
      "include_colab_link": true
    },
    "kernelspec": {
      "name": "python3",
      "display_name": "Python 3"
    },
    "language_info": {
      "name": "python"
    }
  },
  "cells": [
    {
      "cell_type": "markdown",
      "metadata": {
        "id": "view-in-github",
        "colab_type": "text"
      },
      "source": [
        "<a href=\"https://colab.research.google.com/github/neerajkumarkannoujiya/IIITA-Assesment/blob/main/MIT_LAB_EigenValuesAndEigenVector.ipynb\" target=\"_parent\"><img src=\"https://colab.research.google.com/assets/colab-badge.svg\" alt=\"Open In Colab\"/></a>"
      ]
    },
    {
      "cell_type": "markdown",
      "source": [
        "## Find Eigen Values and Eigen Vectors\n"
      ],
      "metadata": {
        "id": "kr2km--6wVPl"
      }
    },
    {
      "cell_type": "code",
      "source": [
        "import math\n",
        "\n",
        "def determinant_3x3(matrix):\n",
        "    \"\"\"Calculate the determinant of a 3x3 matrix\"\"\"\n",
        "    return (matrix[0][0] * (matrix[1][1] * matrix[2][2] - matrix[1][2] * matrix[2][1]) -\n",
        "            matrix[0][1] * (matrix[1][0] * matrix[2][2] - matrix[1][2] * matrix[2][0]) +\n",
        "            matrix[0][2] * (matrix[1][0] * matrix[2][1] - matrix[1][1] * matrix[2][0]))"
      ],
      "metadata": {
        "id": "v236nTkN6jId"
      },
      "execution_count": 46,
      "outputs": []
    },
    {
      "cell_type": "code",
      "source": [
        "def find_eigenvalues(matrix):\n",
        "    \"\"\"Find eigenvalues using the characteristic polynomial\"\"\"\n",
        "    # Characteristic equation is det(A - λI) = 0\n",
        "    # |A - λI| = λ^3 + aλ^2 + bλ + c = 0\n",
        "    a = - (matrix[0][0] + matrix[1][1] + matrix[2][2])  # trace of the matrix\n",
        "    b = (matrix[0][0] * matrix[1][1] + matrix[0][0] * matrix[2][2] + matrix[1][1] * matrix[2][2]\n",
        "         - matrix[0][1] * matrix[1][0] - matrix[0][2] * matrix[2][0] - matrix[1][2] * matrix[2][1])\n",
        "    c = - determinant_3x3(matrix)\n",
        "\n",
        "    # Solve cubic equation λ^3 + aλ^2 + bλ + c = 0 using Cardano's method\n",
        "    Q = (3 * b - a ** 2) / 9\n",
        "    R = (9 * a * b - 27 * c - 2 * a ** 3) / 54\n",
        "    D = Q ** 3 + R ** 2  # discriminant\n",
        "\n",
        "    if D >= 0:  # Real roots\n",
        "        S = math.copysign(abs(R + math.sqrt(D)) ** (1 / 3), R + math.sqrt(D))\n",
        "        T = math.copysign(abs(R - math.sqrt(D)) ** (1 / 3), R - math.sqrt(D))\n",
        "        eigenvalue1 = -a / 3 + (S + T)\n",
        "        eigenvalue2 = -a / 3 - (S + T) / 2\n",
        "        eigenvalue3 = eigenvalue2  # Since one root is repeated\n",
        "    else:  # Three distinct real roots\n",
        "        theta = math.acos(R / math.sqrt(-Q ** 3))\n",
        "        eigenvalue1 = 2 * math.sqrt(-Q) * math.cos(theta / 3) - a / 3\n",
        "        eigenvalue2 = 2 * math.sqrt(-Q) * math.cos((theta + 2 * math.pi) / 3) - a / 3\n",
        "        eigenvalue3 = 2 * math.sqrt(-Q) * math.cos((theta + 4 * math.pi) / 3) - a / 3\n",
        "\n",
        "    return [eigenvalue1, eigenvalue2, eigenvalue3]"
      ],
      "metadata": {
        "id": "64feqwWq7p5t"
      },
      "execution_count": 49,
      "outputs": []
    },
    {
      "cell_type": "code",
      "source": [
        "def find_eigenvectors(matrix, eigenvalues):\n",
        "    \"\"\"Find eigenvectors by solving (A - λI)x = 0\"\"\"\n",
        "    eigenvectors = []\n",
        "    for eigenvalue in eigenvalues:\n",
        "        # Form matrix A - λI\n",
        "        modified_matrix = [[matrix[i][j] - (eigenvalue if i == j else 0) for j in range(3)] for i in range(3)]\n",
        "\n",
        "        if modified_matrix[0][0] != 0:\n",
        "            v2 = -modified_matrix[0][1] / modified_matrix[0][0]\n",
        "            v3 = -modified_matrix[0][2] / modified_matrix[0][0]\n",
        "            eigenvectors.append([1, v2, v3])\n",
        "        else:\n",
        "            eigenvectors.append([0, 0, 1])\n",
        "    return eigenvectors"
      ],
      "metadata": {
        "id": "pgtEX_D801RO"
      },
      "execution_count": 50,
      "outputs": []
    },
    {
      "cell_type": "markdown",
      "source": [],
      "metadata": {
        "id": "bGSPf5hR7fDS"
      }
    },
    {
      "cell_type": "code",
      "source": [
        "matrix = [[8, -6, 2],\n",
        "          [-6, 4, -4],\n",
        "          [2, -4, 3]]\n",
        "\n",
        "eigenvalues = find_eigenvalues(matrix)\n",
        "eigenvectors = find_eigenvectors(matrix, eigenvalues)\n",
        "\n",
        "print(\"Eigenvalues:\", eigenvalues)\n",
        "print(\"Eigenvectors:\", eigenvectors)\n"
      ],
      "metadata": {
        "colab": {
          "base_uri": "https://localhost:8080/"
        },
        "id": "epYT567Z66rJ",
        "outputId": "3a728132-f395-4c65-b3dc-4e60e4388a66"
      },
      "execution_count": 51,
      "outputs": [
        {
          "output_type": "stream",
          "name": "stdout",
          "text": [
            "Eigenvalues: [13.817246294560041, -1.5747546843295153, 2.757508389769476]\n",
            "Eigenvectors: [[1, -1.0314158445742379, 0.34380528152474593], [1, 0.6266479087782663, -0.20888263625942208], [1, 1.1444939631932318, -0.3814979877310773]]\n"
          ]
        }
      ]
    }
  ]
}
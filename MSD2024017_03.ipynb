{
  "nbformat": 4,
  "nbformat_minor": 0,
  "metadata": {
    "colab": {
      "provenance": []
    },
    "kernelspec": {
      "name": "python3",
      "display_name": "Python 3"
    },
    "language_info": {
      "name": "python"
    }
  },
  "cells": [
    {
      "cell_type": "markdown",
      "source": [
        "**Task 1: Data Understanding and Importing**"
      ],
      "metadata": {
        "id": "l-NA98iqVcd7"
      }
    },
    {
      "cell_type": "code",
      "execution_count": 41,
      "metadata": {
        "id": "W9xv-TpHT3ks",
        "colab": {
          "base_uri": "https://localhost:8080/"
        },
        "outputId": "13dbd807-ce08-4f84-e31d-4631ed6671b7"
      },
      "outputs": [
        {
          "output_type": "stream",
          "name": "stdout",
          "text": [
            "   ID  LIMIT_BAL  SEX  EDUCATION  MARRIAGE  AGE  PAY_0  PAY_2  PAY_3  PAY_4  \\\n",
            "0   1    20000.0    2          2         1   24      2      2     -1     -1   \n",
            "1   2   120000.0    2          2         2   26     -1      2      0      0   \n",
            "2   3    90000.0    2          2         2   34      0      0      0      0   \n",
            "3   4    50000.0    2          2         1   37      0      0      0      0   \n",
            "4   5    50000.0    1          2         1   57     -1      0     -1      0   \n",
            "5   6    50000.0    1          1         2   37      0      0      0      0   \n",
            "6   7   500000.0    1          1         2   29      0      0      0      0   \n",
            "7   8   100000.0    2          2         2   23      0     -1     -1      0   \n",
            "8   9   140000.0    2          3         1   28      0      0      2      0   \n",
            "9  10    20000.0    1          3         2   35     -2     -2     -2     -2   \n",
            "\n",
            "   ...  BILL_AMT4  BILL_AMT5  BILL_AMT6  PAY_AMT1  PAY_AMT2  PAY_AMT3  \\\n",
            "0  ...        0.0        0.0        0.0       0.0     689.0       0.0   \n",
            "1  ...     3272.0     3455.0     3261.0       0.0    1000.0    1000.0   \n",
            "2  ...    14331.0    14948.0    15549.0    1518.0    1500.0    1000.0   \n",
            "3  ...    28314.0    28959.0    29547.0    2000.0    2019.0    1200.0   \n",
            "4  ...    20940.0    19146.0    19131.0    2000.0   36681.0   10000.0   \n",
            "5  ...    19394.0    19619.0    20024.0    2500.0    1815.0     657.0   \n",
            "6  ...   542653.0   483003.0   473944.0   55000.0   40000.0   38000.0   \n",
            "7  ...      221.0     -159.0      567.0     380.0     601.0       0.0   \n",
            "8  ...    12211.0    11793.0     3719.0    3329.0       0.0     432.0   \n",
            "9  ...        0.0    13007.0    13912.0       0.0       0.0       0.0   \n",
            "\n",
            "   PAY_AMT4  PAY_AMT5  PAY_AMT6  default.payment.next.month  \n",
            "0       0.0       0.0       0.0                           1  \n",
            "1    1000.0       0.0    2000.0                           1  \n",
            "2    1000.0    1000.0    5000.0                           0  \n",
            "3    1100.0    1069.0    1000.0                           0  \n",
            "4    9000.0     689.0     679.0                           0  \n",
            "5    1000.0    1000.0     800.0                           0  \n",
            "6   20239.0   13750.0   13770.0                           0  \n",
            "7     581.0    1687.0    1542.0                           0  \n",
            "8    1000.0    1000.0    1000.0                           0  \n",
            "9   13007.0    1122.0       0.0                           0  \n",
            "\n",
            "[10 rows x 25 columns]\n",
            "<class 'pandas.core.frame.DataFrame'>\n",
            "RangeIndex: 30000 entries, 0 to 29999\n",
            "Data columns (total 25 columns):\n",
            " #   Column                      Non-Null Count  Dtype  \n",
            "---  ------                      --------------  -----  \n",
            " 0   ID                          30000 non-null  int64  \n",
            " 1   LIMIT_BAL                   30000 non-null  float64\n",
            " 2   SEX                         30000 non-null  int64  \n",
            " 3   EDUCATION                   30000 non-null  int64  \n",
            " 4   MARRIAGE                    30000 non-null  int64  \n",
            " 5   AGE                         30000 non-null  int64  \n",
            " 6   PAY_0                       30000 non-null  int64  \n",
            " 7   PAY_2                       30000 non-null  int64  \n",
            " 8   PAY_3                       30000 non-null  int64  \n",
            " 9   PAY_4                       30000 non-null  int64  \n",
            " 10  PAY_5                       30000 non-null  int64  \n",
            " 11  PAY_6                       30000 non-null  int64  \n",
            " 12  BILL_AMT1                   30000 non-null  float64\n",
            " 13  BILL_AMT2                   30000 non-null  float64\n",
            " 14  BILL_AMT3                   30000 non-null  float64\n",
            " 15  BILL_AMT4                   30000 non-null  float64\n",
            " 16  BILL_AMT5                   30000 non-null  float64\n",
            " 17  BILL_AMT6                   30000 non-null  float64\n",
            " 18  PAY_AMT1                    30000 non-null  float64\n",
            " 19  PAY_AMT2                    30000 non-null  float64\n",
            " 20  PAY_AMT3                    30000 non-null  float64\n",
            " 21  PAY_AMT4                    30000 non-null  float64\n",
            " 22  PAY_AMT5                    30000 non-null  float64\n",
            " 23  PAY_AMT6                    30000 non-null  float64\n",
            " 24  default.payment.next.month  30000 non-null  int64  \n",
            "dtypes: float64(13), int64(12)\n",
            "memory usage: 5.7 MB\n",
            "None\n",
            "Rows: 30000, Columns: 25\n",
            "                 ID       LIMIT_BAL           SEX     EDUCATION      MARRIAGE  \\\n",
            "count  30000.000000    30000.000000  30000.000000  30000.000000  30000.000000   \n",
            "mean   15000.500000   167484.322667      1.603733      1.853133      1.551867   \n",
            "std     8660.398374   129747.661567      0.489129      0.790349      0.521970   \n",
            "min        1.000000    10000.000000      1.000000      0.000000      0.000000   \n",
            "25%     7500.750000    50000.000000      1.000000      1.000000      1.000000   \n",
            "50%    15000.500000   140000.000000      2.000000      2.000000      2.000000   \n",
            "75%    22500.250000   240000.000000      2.000000      2.000000      2.000000   \n",
            "max    30000.000000  1000000.000000      2.000000      6.000000      3.000000   \n",
            "\n",
            "                AGE         PAY_0         PAY_2         PAY_3         PAY_4  \\\n",
            "count  30000.000000  30000.000000  30000.000000  30000.000000  30000.000000   \n",
            "mean      35.485500     -0.016700     -0.133767     -0.166200     -0.220667   \n",
            "std        9.217904      1.123802      1.197186      1.196868      1.169139   \n",
            "min       21.000000     -2.000000     -2.000000     -2.000000     -2.000000   \n",
            "25%       28.000000     -1.000000     -1.000000     -1.000000     -1.000000   \n",
            "50%       34.000000      0.000000      0.000000      0.000000      0.000000   \n",
            "75%       41.000000      0.000000      0.000000      0.000000      0.000000   \n",
            "max       79.000000      8.000000      8.000000      8.000000      8.000000   \n",
            "\n",
            "       ...      BILL_AMT4      BILL_AMT5      BILL_AMT6       PAY_AMT1  \\\n",
            "count  ...   30000.000000   30000.000000   30000.000000   30000.000000   \n",
            "mean   ...   43262.948967   40311.400967   38871.760400    5663.580500   \n",
            "std    ...   64332.856134   60797.155770   59554.107537   16563.280354   \n",
            "min    ... -170000.000000  -81334.000000 -339603.000000       0.000000   \n",
            "25%    ...    2326.750000    1763.000000    1256.000000    1000.000000   \n",
            "50%    ...   19052.000000   18104.500000   17071.000000    2100.000000   \n",
            "75%    ...   54506.000000   50190.500000   49198.250000    5006.000000   \n",
            "max    ...  891586.000000  927171.000000  961664.000000  873552.000000   \n",
            "\n",
            "           PAY_AMT2      PAY_AMT3       PAY_AMT4       PAY_AMT5  \\\n",
            "count  3.000000e+04   30000.00000   30000.000000   30000.000000   \n",
            "mean   5.921163e+03    5225.68150    4826.076867    4799.387633   \n",
            "std    2.304087e+04   17606.96147   15666.159744   15278.305679   \n",
            "min    0.000000e+00       0.00000       0.000000       0.000000   \n",
            "25%    8.330000e+02     390.00000     296.000000     252.500000   \n",
            "50%    2.009000e+03    1800.00000    1500.000000    1500.000000   \n",
            "75%    5.000000e+03    4505.00000    4013.250000    4031.500000   \n",
            "max    1.684259e+06  896040.00000  621000.000000  426529.000000   \n",
            "\n",
            "            PAY_AMT6  default.payment.next.month  \n",
            "count   30000.000000                30000.000000  \n",
            "mean     5215.502567                    0.221200  \n",
            "std     17777.465775                    0.415062  \n",
            "min         0.000000                    0.000000  \n",
            "25%       117.750000                    0.000000  \n",
            "50%      1500.000000                    0.000000  \n",
            "75%      4000.000000                    0.000000  \n",
            "max    528666.000000                    1.000000  \n",
            "\n",
            "[8 rows x 25 columns]\n"
          ]
        }
      ],
      "source": [
        "import pandas as pd\n",
        "\n",
        "# importing the data\n",
        "df = pd.read_csv('data.csv')\n",
        "\n",
        "print(df.head(10))\n",
        "\n",
        "print(df.info())\n",
        "\n",
        "\n",
        "print(f\"Rows: {df.shape[0]}, Columns: {df.shape[1]}\")\n",
        "\n",
        "\n",
        "print(df.describe())\n"
      ]
    },
    {
      "cell_type": "markdown",
      "source": [
        "**Task 2: Handling Missing Data**"
      ],
      "metadata": {
        "id": "lLluC0jHVrYj"
      }
    },
    {
      "cell_type": "code",
      "source": [
        "missing_values = df.isnull().sum()\n",
        "# printing missing value\n",
        "print(missing_values[missing_values > 0])\n",
        "\n",
        "\n",
        "df_cleaned = df.dropna()\n",
        "\n",
        "df.fillna(df.mean(), inplace=True)\n",
        "\n",
        "print(df.isnull().sum())\n"
      ],
      "metadata": {
        "colab": {
          "base_uri": "https://localhost:8080/"
        },
        "id": "eTkz4hTvV_nT",
        "outputId": "2a3a2dc5-9473-4d74-8cfc-42fd2415eedc"
      },
      "execution_count": 48,
      "outputs": [
        {
          "output_type": "stream",
          "name": "stdout",
          "text": [
            "Series([], dtype: int64)\n",
            "ID                            0\n",
            "LIMIT_BAL                     0\n",
            "SEX                           0\n",
            "EDUCATION                     0\n",
            "MARRIAGE                      0\n",
            "AGE                           0\n",
            "PAY_0                         0\n",
            "PAY_2                         0\n",
            "PAY_3                         0\n",
            "PAY_4                         0\n",
            "PAY_5                         0\n",
            "PAY_6                         0\n",
            "BILL_AMT1                     0\n",
            "BILL_AMT2                     0\n",
            "BILL_AMT3                     0\n",
            "BILL_AMT4                     0\n",
            "BILL_AMT5                     0\n",
            "BILL_AMT6                     0\n",
            "PAY_AMT1                      0\n",
            "PAY_AMT2                      0\n",
            "PAY_AMT3                      0\n",
            "PAY_AMT4                      0\n",
            "PAY_AMT5                      0\n",
            "PAY_AMT6                      0\n",
            "default.payment.next.month    0\n",
            "LIMIT_BAL_scaled              0\n",
            "AGE_normalized                0\n",
            "dtype: int64\n"
          ]
        }
      ]
    },
    {
      "cell_type": "markdown",
      "source": [
        "Task 3: Data Transformation"
      ],
      "metadata": {
        "id": "IVpUt-weWER6"
      }
    },
    {
      "cell_type": "code",
      "source": [
        "from sklearn.preprocessing import StandardScaler, MinMaxScaler\n",
        "import matplotlib.pyplot as plt\n",
        "import seaborn as sns\n",
        "\n",
        "continuous_vars = df.select_dtypes(include=['float64', 'int64']).columns\n",
        "print(continuous_vars)\n",
        "\n",
        "\n",
        "scaler = StandardScaler()\n",
        "df['LIMIT_BAL_scaled'] = scaler.fit_transform(df[['LIMIT_BAL']])\n",
        "\n",
        "\n",
        "min_max_scaler = MinMaxScaler()\n",
        "df['AGE_normalized'] = min_max_scaler.fit_transform(df[['AGE']])\n",
        "\n",
        "\n",
        "plt.figure(figsize=(10, 5))\n",
        "\n",
        "plt.subplot(1, 2, 1)\n",
        "sns.histplot(df['LIMIT_BAL'], kde=True)\n",
        "plt.title('Original LIMIT_BAL')\n",
        "\n",
        "plt.subplot(1, 2, 2)\n",
        "sns.histplot(df['LIMIT_BAL_scaled'], kde=True)\n",
        "plt.title('Scaled LIMIT_BAL')\n",
        "\n",
        "plt.tight_layout()\n",
        "plt.show()\n",
        "\n"
      ],
      "metadata": {
        "colab": {
          "base_uri": "https://localhost:8080/",
          "height": 611
        },
        "id": "u8iWPKiRWU83",
        "outputId": "7a0a6207-5392-428a-8517-a76a32165c88"
      },
      "execution_count": 49,
      "outputs": [
        {
          "output_type": "stream",
          "name": "stdout",
          "text": [
            "Index(['ID', 'LIMIT_BAL', 'SEX', 'EDUCATION', 'MARRIAGE', 'AGE', 'PAY_0',\n",
            "       'PAY_2', 'PAY_3', 'PAY_4', 'PAY_5', 'PAY_6', 'BILL_AMT1', 'BILL_AMT2',\n",
            "       'BILL_AMT3', 'BILL_AMT4', 'BILL_AMT5', 'BILL_AMT6', 'PAY_AMT1',\n",
            "       'PAY_AMT2', 'PAY_AMT3', 'PAY_AMT4', 'PAY_AMT5', 'PAY_AMT6',\n",
            "       'default.payment.next.month', 'LIMIT_BAL_scaled', 'AGE_normalized'],\n",
            "      dtype='object')\n"
          ]
        },
        {
          "output_type": "display_data",
          "data": {
            "text/plain": [
              "<Figure size 1000x500 with 2 Axes>"
            ],
            "image/png": "[encoded data removed]"
          },
          "metadata": {}
        }
      ]
    },
    {
      "cell_type": "markdown",
      "source": [
        "**Task 4: Encoding categorical variables**"
      ],
      "metadata": {
        "id": "6iuza2eXXcP_"
      }
    },
    {
      "cell_type": "code",
      "source": [
        "categorical_columns = df.select_dtypes(include=['object']).columns\n",
        "print(f\"Categorical columns: {categorical_columns}\")\n",
        "\n",
        "\n",
        "df_encoded = pd.get_dummies(df, columns=categorical_columns)\n",
        "\n",
        "# Display the encoded data\n",
        "print(df_encoded.head())\n"
      ],
      "metadata": {
        "colab": {
          "base_uri": "https://localhost:8080/"
        },
        "id": "CjTdx-cWXgMm",
        "outputId": "77ee7976-5d50-4599-8737-127e0ffa7cef"
      },
      "execution_count": 50,
      "outputs": [
        {
          "output_type": "stream",
          "name": "stdout",
          "text": [
            "Categorical columns: Index([], dtype='object')\n",
            "   ID  LIMIT_BAL  SEX  EDUCATION  MARRIAGE  AGE  PAY_0  PAY_2  PAY_3  PAY_4  \\\n",
            "0   1    20000.0    2          2         1   24      2      2     -1     -1   \n",
            "1   2   120000.0    2          2         2   26     -1      2      0      0   \n",
            "2   3    90000.0    2          2         2   34      0      0      0      0   \n",
            "3   4    50000.0    2          2         1   37      0      0      0      0   \n",
            "4   5    50000.0    1          2         1   57     -1      0     -1      0   \n",
            "\n",
            "   ...  BILL_AMT6  PAY_AMT1  PAY_AMT2  PAY_AMT3  PAY_AMT4  PAY_AMT5  PAY_AMT6  \\\n",
            "0  ...        0.0       0.0     689.0       0.0       0.0       0.0       0.0   \n",
            "1  ...     3261.0       0.0    1000.0    1000.0    1000.0       0.0    2000.0   \n",
            "2  ...    15549.0    1518.0    1500.0    1000.0    1000.0    1000.0    5000.0   \n",
            "3  ...    29547.0    2000.0    2019.0    1200.0    1100.0    1069.0    1000.0   \n",
            "4  ...    19131.0    2000.0   36681.0   10000.0    9000.0     689.0     679.0   \n",
            "\n",
            "   default.payment.next.month  LIMIT_BAL_scaled  AGE_normalized  \n",
            "0                           1         -1.136720        0.051724  \n",
            "1                           1         -0.365981        0.086207  \n",
            "2                           0         -0.597202        0.224138  \n",
            "3                           0         -0.905498        0.275862  \n",
            "4                           0         -0.905498        0.620690  \n",
            "\n",
            "[5 rows x 27 columns]\n"
          ]
        }
      ]
    },
    {
      "cell_type": "markdown",
      "source": [
        "**Task 5: Feature Selection and Engineering**"
      ],
      "metadata": {
        "id": "mdQWCOoyXwDo"
      }
    },
    {
      "cell_type": "code",
      "source": [
        "if 'ID' in df_encoded.columns:\n",
        "    df_encoded.drop(['ID'], axis=1, inplace=True)\n",
        "\n",
        "df_encoded['total_payment'] = df_encoded['BILL_AMT1'] + df_encoded['PAY_AMT1']\n",
        "\n",
        "# Check the new feature\n",
        "print(df_encoded.head())\n"
      ],
      "metadata": {
        "colab": {
          "base_uri": "https://localhost:8080/"
        },
        "id": "PbpgCkatXzHk",
        "outputId": "9496c524-6249-458d-c6fa-97226fe6d100"
      },
      "execution_count": 51,
      "outputs": [
        {
          "output_type": "stream",
          "name": "stdout",
          "text": [
            "   LIMIT_BAL  SEX  EDUCATION  MARRIAGE  AGE  PAY_0  PAY_2  PAY_3  PAY_4  \\\n",
            "0    20000.0    2          2         1   24      2      2     -1     -1   \n",
            "1   120000.0    2          2         2   26     -1      2      0      0   \n",
            "2    90000.0    2          2         2   34      0      0      0      0   \n",
            "3    50000.0    2          2         1   37      0      0      0      0   \n",
            "4    50000.0    1          2         1   57     -1      0     -1      0   \n",
            "\n",
            "   PAY_5  ...  PAY_AMT1  PAY_AMT2  PAY_AMT3  PAY_AMT4  PAY_AMT5  PAY_AMT6  \\\n",
            "0     -2  ...       0.0     689.0       0.0       0.0       0.0       0.0   \n",
            "1      0  ...       0.0    1000.0    1000.0    1000.0       0.0    2000.0   \n",
            "2      0  ...    1518.0    1500.0    1000.0    1000.0    1000.0    5000.0   \n",
            "3      0  ...    2000.0    2019.0    1200.0    1100.0    1069.0    1000.0   \n",
            "4      0  ...    2000.0   36681.0   10000.0    9000.0     689.0     679.0   \n",
            "\n",
            "   default.payment.next.month  LIMIT_BAL_scaled  AGE_normalized  total_payment  \n",
            "0                           1         -1.136720        0.051724         3913.0  \n",
            "1                           1         -0.365981        0.086207         2682.0  \n",
            "2                           0         -0.597202        0.224138        30757.0  \n",
            "3                           0         -0.905498        0.275862        48990.0  \n",
            "4                           0         -0.905498        0.620690        10617.0  \n",
            "\n",
            "[5 rows x 27 columns]\n"
          ]
        }
      ]
    },
    {
      "cell_type": "markdown",
      "source": [
        "**Task 6: Data Splitting**"
      ],
      "metadata": {
        "id": "k0MII0MLYAoE"
      }
    },
    {
      "cell_type": "code",
      "source": [
        "from sklearn.model_selection import train_test_split\n",
        "\n",
        "# Define target variable and features\n",
        "X = df_encoded.drop('default.payment.next.month', axis=1)\n",
        "y = df_encoded['default.payment.next.month']\n",
        "\n",
        "# Split data\n",
        "X_train, X_test, y_train, y_test = train_test_split(X, y, test_size=0.2, random_state=42)\n",
        "\n",
        "print(f\"Training set size: {X_train.shape[0]}\")\n",
        "print(f\"Testing set size: {X_test.shape[0]}\")"
      ],
      "metadata": {
        "colab": {
          "base_uri": "https://localhost:8080/"
        },
        "id": "R-Gza1TZYiFZ",
        "outputId": "229a98e1-88dd-43b9-bd80-3bc661734d26"
      },
      "execution_count": 52,
      "outputs": [
        {
          "output_type": "stream",
          "name": "stdout",
          "text": [
            "Training set size: 24000\n",
            "Testing set size: 6000\n"
          ]
        }
      ]
    },
    {
      "cell_type": "markdown",
      "source": [
        "**Task 7: Summary of Data Preprocessing**"
      ],
      "metadata": {
        "id": "qAP2srZ6dFK1"
      }
    },
    {
      "cell_type": "markdown",
      "source": [
        "**Summary:**\n",
        "\n",
        "\n",
        "**Task 1: Data Understanding and Importing**\n",
        "\n",
        "\n",
        "\n",
        "*   **Loading the dataset :** You need to use some code to read your dataset into Python. This is as simple as telling Python where to find the file and then asking it to show the first 10 rows. It’s like saying, \"Hey, Python, show me a sneak peek of this dataset.\"\n",
        "*   **Understanding the structure :** Every dataset has rows and columns. Rows are like individual records (people or transactions), and columns are the different types of data we have on them (like age, gender, payment amounts).\n",
        "\n",
        "\n",
        "**Task 2: Handling Missing Data**\n",
        "\n",
        "\n",
        "\n",
        "*   **Identify missing data :** First, you need to find out where these gaps are—maybe some people forgot to fill in their age or payment history.\n",
        "*   **Drop the missing data :** This is like ignoring the rows with gaps, but we only do this if we have a lot of data and missing a few rows won’t hurt.\n",
        "\n",
        "\n",
        "**Task 3: Data Transformation**\n",
        "\n",
        "\n",
        "\n",
        "*   **Identify Variables for Transformation :**\n",
        "Continuous variables might need scaling (normalization/standardization).\n",
        "For example, columns representing monetary values or limits.\n",
        "*   **Transformation Techniques :**\n",
        "Apply standardization using StandardScaler from sklearn or normalization using MinMaxScaler.\n",
        "Visualize the effect of transformation (e.g., histogram before and after scaling).\n",
        "\n",
        "\n",
        "**Task 4: Encoding Categorical Variables**\n",
        "\n",
        "\n",
        "\n",
        "*   **Identify Categorical Variables :** Use df_cleaned.select_dtypes(include='object') to find categorical columns.\n",
        "*   **Apply Encoding Techniques :**\n",
        "Use OneHotEncoder for categorical variables with many categories (e.g., gender, education).\n",
        "Justify choice based on the model you plan to use (e.g., regression models often perform better with one-hot encoding).\n",
        "\n",
        "\n",
        "\n",
        "**Task 5: Feature Selection and Engineering**\n",
        "\n",
        "\n",
        "\n",
        "*   **Remove Redundant or Irrelevant Features :** Features like ID might not contribute to the model and can be dropped.\n",
        "Justify why these features are removed (e.g., no predictive value).\n",
        "\n",
        "*   **Feature Engineering :**\n",
        "Create interaction terms if applicable, or construct new features like Age Group based on age data.\n",
        "\n",
        "\n",
        "\n",
        "**Task 6: Data Splitting**\n",
        "\n",
        "\n",
        "\n",
        "*   **Split Dataset into Training and Testing Sets :** Use train_test_split from sklearn to split the dataset with an 80:20 ratio.\n",
        "Discuss the importance of splitting for model training and evaluation to avoid overfitting.\n",
        "\n"
      ],
      "metadata": {
        "id": "HG8qjvNpdFR0"
      }
    }
  ]
}
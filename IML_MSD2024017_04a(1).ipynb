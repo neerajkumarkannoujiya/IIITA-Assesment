{
  "nbformat": 4,
  "nbformat_minor": 0,
  "metadata": {
    "colab": {
      "provenance": []
    },
    "kernelspec": {
      "name": "python3",
      "display_name": "Python 3"
    },
    "language_info": {
      "name": "python"
    }
  },
  "cells": [
    {
      "cell_type": "markdown",
      "source": [
        "#Implementing Decision Trees for iris species"
      ],
      "metadata": {
        "id": "UwD8lSM04cGt"
      }
    },
    {
      "cell_type": "markdown",
      "source": [
        "##Data Preparation"
      ],
      "metadata": {
        "id": "MlGa79N35Dl4"
      }
    },
    {
      "cell_type": "code",
      "execution_count": null,
      "metadata": {
        "colab": {
          "base_uri": "https://localhost:8080/"
        },
        "id": "_bXwg5l33GQi",
        "outputId": "77f13cbe-0019-4741-e99c-c0485bcb0d40"
      },
      "outputs": [
        {
          "output_type": "stream",
          "name": "stdout",
          "text": [
            "   sepal length (cm)  sepal width (cm)  petal length (cm)  petal width (cm)  \\\n",
            "0                5.1               3.5                1.4               0.2   \n",
            "1                4.9               3.0                1.4               0.2   \n",
            "2                4.7               3.2                1.3               0.2   \n",
            "3                4.6               3.1                1.5               0.2   \n",
            "4                5.0               3.6                1.4               0.2   \n",
            "\n",
            "  species  \n",
            "0  setosa  \n",
            "1  setosa  \n",
            "2  setosa  \n",
            "3  setosa  \n",
            "4  setosa  \n"
          ]
        }
      ],
      "source": [
        "import pandas as pd\n",
        "from sklearn.datasets import load_iris\n",
        "\n",
        "df = pd.read_csv('Iris.csv')\n",
        "\n",
        "df.head()\n",
        "\n",
        "\n",
        "# Load the Iris dataset\n",
        "iris = load_iris()\n",
        "df = pd.DataFrame(data=iris.data, columns=iris.feature_names)\n",
        "df['species'] = iris.target\n",
        "df['species'] = df['species'].map({0: 'setosa', 1: 'versicolor', 2: 'virginica'})\n",
        "\n",
        "# Display the first few rows\n",
        "print(df.head())\n",
        "\n"
      ]
    },
    {
      "cell_type": "markdown",
      "source": [
        "##Functions for finding gini impurity, entropy and information gain"
      ],
      "metadata": {
        "id": "mk3_-y_35Haa"
      }
    },
    {
      "cell_type": "code",
      "source": [
        "import numpy as np\n",
        "\n",
        "def gini_impurity(y):\n",
        "    classes, counts = np.unique(y, return_counts=True)\n",
        "    return 1 - sum((counts / counts.sum()) ** 2)"
      ],
      "metadata": {
        "id": "iEkIqblU1H1b"
      },
      "execution_count": null,
      "outputs": []
    },
    {
      "cell_type": "code",
      "source": [
        "\n",
        "def entropy(y):\n",
        "    classes, counts = np.unique(y, return_counts=True)\n",
        "    probabilities = counts / counts.sum()\n",
        "    return -sum(p * np.log2(p) for p in probabilities if p > 0)"
      ],
      "metadata": {
        "id": "GCoB1OAF1NoD"
      },
      "execution_count": null,
      "outputs": []
    },
    {
      "cell_type": "code",
      "source": [
        "def information_gain(y, X_col, split_threshold):\n",
        "    parent_entropy = entropy(y)\n",
        "\n",
        "    left_indices = X_col <= split_threshold\n",
        "    right_indices = X_col > split_threshold\n",
        "\n",
        "    if len(y[left_indices]) == 0 or len(y[right_indices]) == 0:\n",
        "        return 0\n",
        "\n",
        "    n = len(y)\n",
        "    n_left, n_right = len(y[left_indices]), len(y[right_indices])\n",
        "\n",
        "    child_entropy = (n_left / n) * entropy(y[left_indices]) + (n_right / n) * entropy(y[right_indices])\n",
        "    return parent_entropy - child_entropy"
      ],
      "metadata": {
        "id": "x1xIJWZV1ZSU"
      },
      "execution_count": null,
      "outputs": []
    },
    {
      "cell_type": "code",
      "source": [
        "def best_split(X, y):\n",
        "    best_gain = -1\n",
        "    best_threshold = None\n",
        "    best_column = None\n",
        "\n",
        "    for col in range(X.shape[1]):\n",
        "        thresholds = np.unique(X[:, col])\n",
        "        for threshold in thresholds:\n",
        "            gain = information_gain(y, X[:, col], threshold)\n",
        "            if gain > best_gain:\n",
        "                best_gain = gain\n",
        "                best_threshold = threshold\n",
        "                best_column = col\n",
        "\n",
        "    return best_gain, best_column, best_threshold\n"
      ],
      "metadata": {
        "id": "8XPCYgqTAdzm"
      },
      "execution_count": null,
      "outputs": []
    },
    {
      "cell_type": "markdown",
      "source": [
        "##Implement Decision Tree Algorithms"
      ],
      "metadata": {
        "id": "mwb0b7551lHU"
      }
    },
    {
      "cell_type": "code",
      "source": [
        "class DecisionTree:\n",
        "    def __init__(self, max_depth=None, criterion='entropy'):\n",
        "        self.max_depth = max_depth\n",
        "        self.criterion = criterion\n",
        "        self.tree = None\n",
        "\n",
        "    def fit(self, X, y):\n",
        "        self.tree = self._grow_tree(X, y)\n",
        "\n",
        "    def _grow_tree(self, X, y, depth=0):\n",
        "        n_samples, n_features = X.shape\n",
        "        unique_classes = np.unique(y)\n",
        "\n",
        "        # Check for stopping criteria\n",
        "        if (len(unique_classes) == 1 or\n",
        "            (self.max_depth is not None and depth >= self.max_depth)):\n",
        "            return unique_classes[0]  # Return the class label\n",
        "\n",
        "        gain, column, threshold = best_split(X, y)\n",
        "        if gain == 0:\n",
        "            return unique_classes[0]  # Return the class label\n",
        "\n",
        "        left_indices = X[:, column] <= threshold\n",
        "        right_indices = X[:, column] > threshold\n",
        "\n",
        "        left_tree = self._grow_tree(X[left_indices], y[left_indices], depth + 1)\n",
        "        right_tree = self._grow_tree(X[right_indices], y[right_indices], depth + 1)\n",
        "\n",
        "        return (column, threshold, left_tree, right_tree)\n",
        "\n",
        "    def predict(self, X):\n",
        "        return np.array([self._predict(sample, self.tree) for sample in X])\n",
        "\n",
        "    def _predict(self, sample, tree):\n",
        "        if not isinstance(tree, tuple):\n",
        "            return tree  # Leaf node, return the class label\n",
        "\n",
        "        column, threshold, left_tree, right_tree = tree\n",
        "        if sample[column] <= threshold:\n",
        "            return self._predict(sample, left_tree)\n",
        "        else:\n",
        "            return self._predict(sample, right_tree)\n"
      ],
      "metadata": {
        "id": "nj9PnHICBliK"
      },
      "execution_count": null,
      "outputs": []
    },
    {
      "cell_type": "markdown",
      "source": [
        "##Building and Visualizing Trees"
      ],
      "metadata": {
        "id": "2vqgNTu56Hwi"
      }
    },
    {
      "cell_type": "code",
      "source": [
        "from graphviz import Digraph\n",
        "\n",
        "def visualize_tree(tree, feature_names):\n",
        "    dot = Digraph()\n",
        "\n",
        "    def add_nodes_edges(tree, parent_name, graph):\n",
        "        if not isinstance(tree, tuple):\n",
        "            graph.node(str(tree), str(tree))\n",
        "            graph.edge(parent_name, str(tree))\n",
        "            return\n",
        "\n",
        "        column, threshold, left_tree, right_tree = tree\n",
        "        node_name = f\"{feature_names[column]} <= {threshold:.2f}\"\n",
        "        graph.node(node_name)\n",
        "        graph.edge(parent_name, node_name)\n",
        "\n",
        "        add_nodes_edges(left_tree, node_name, graph)\n",
        "        add_nodes_edges(right_tree, node_name, graph)\n",
        "\n",
        "    add_nodes_edges(tree, \"root\", dot)\n",
        "    return dot\n",
        "\n",
        "# Example of usage\n",
        "X = df.iloc[:, :-1].values\n",
        "y = df['species'].values\n",
        "tree_model = DecisionTree(max_depth=3)\n",
        "tree_model.fit(X, y)\n",
        "dot = visualize_tree(tree_model.tree, iris.feature_names)\n",
        "dot\n"
      ],
      "metadata": {
        "colab": {
          "base_uri": "https://localhost:8080/",
          "height": 464
        },
        "id": "RUmnugS6Gd2D",
        "outputId": "4f22ad15-1632-4e08-f2fa-5b180edec108"
      },
      "execution_count": null,
      "outputs": [
        {
          "output_type": "execute_result",
          "data": {
            "image/svg+xml": "<?xml version=\"1.0\" encoding=\"UTF-8\" standalone=\"no\"?>\n<!DOCTYPE svg PUBLIC \"-//W3C//DTD SVG 1.1//EN\"\n \"http://www.w3.org/Graphics/SVG/1.1/DTD/svg11.dtd\">\n<!-- Generated by graphviz version 2.43.0 (0)\n -->\n<!-- Title: %3 Pages: 1 -->\n<svg width=\"436pt\" height=\"332pt\"\n viewBox=\"0.00 0.00 436.38 332.00\" xmlns=\"http://www.w3.org/2000/svg\" xmlns:xlink=\"http://www.w3.org/1999/xlink\">\n<g id=\"graph0\" class=\"graph\" transform=\"scale(1 1) rotate(0) translate(4 328)\">\n<title>%3</title>\n<polygon fill=\"white\" stroke=\"transparent\" points=\"-4,4 -4,-328 432.38,-328 432.38,4 -4,4\"/>\n<!-- petal length (cm) &lt;= 1.90 -->\n<g id=\"node1\" class=\"node\">\n<title>petal length (cm) &lt;= 1.90</title>\n<ellipse fill=\"none\" stroke=\"black\" cx=\"138.69\" cy=\"-234\" rx=\"102.88\" ry=\"18\"/>\n<text text-anchor=\"middle\" x=\"138.69\" y=\"-230.3\" font-family=\"Times,serif\" font-size=\"14.00\">petal length (cm) &lt;= 1.90</text>\n</g>\n<!-- setosa -->\n<g id=\"node3\" class=\"node\">\n<title>setosa</title>\n<ellipse fill=\"none\" stroke=\"black\" cx=\"63.69\" cy=\"-162\" rx=\"32.49\" ry=\"18\"/>\n<text text-anchor=\"middle\" x=\"63.69\" y=\"-158.3\" font-family=\"Times,serif\" font-size=\"14.00\">setosa</text>\n</g>\n<!-- petal length (cm) &lt;= 1.90&#45;&gt;setosa -->\n<g id=\"edge2\" class=\"edge\">\n<title>petal length (cm) &lt;= 1.90&#45;&gt;setosa</title>\n<path fill=\"none\" stroke=\"black\" d=\"M120.54,-216.05C110.49,-206.68 97.89,-194.92 87.11,-184.86\"/>\n<polygon fill=\"black\" stroke=\"black\" points=\"89.34,-182.15 79.64,-177.89 84.56,-187.27 89.34,-182.15\"/>\n</g>\n<!-- petal width (cm) &lt;= 1.70 -->\n<g id=\"node4\" class=\"node\">\n<title>petal width (cm) &lt;= 1.70</title>\n<ellipse fill=\"none\" stroke=\"black\" cx=\"214.69\" cy=\"-162\" rx=\"100.98\" ry=\"18\"/>\n<text text-anchor=\"middle\" x=\"214.69\" y=\"-158.3\" font-family=\"Times,serif\" font-size=\"14.00\">petal width (cm) &lt;= 1.70</text>\n</g>\n<!-- petal length (cm) &lt;= 1.90&#45;&gt;petal width (cm) &lt;= 1.70 -->\n<g id=\"edge3\" class=\"edge\">\n<title>petal length (cm) &lt;= 1.90&#45;&gt;petal width (cm) &lt;= 1.70</title>\n<path fill=\"none\" stroke=\"black\" d=\"M157.09,-216.05C166.61,-207.28 178.39,-196.43 188.82,-186.83\"/>\n<polygon fill=\"black\" stroke=\"black\" points=\"191.48,-189.14 196.46,-179.79 186.74,-183.99 191.48,-189.14\"/>\n</g>\n<!-- root -->\n<g id=\"node2\" class=\"node\">\n<title>root</title>\n<ellipse fill=\"none\" stroke=\"black\" cx=\"138.69\" cy=\"-306\" rx=\"27\" ry=\"18\"/>\n<text text-anchor=\"middle\" x=\"138.69\" y=\"-302.3\" font-family=\"Times,serif\" font-size=\"14.00\">root</text>\n</g>\n<!-- root&#45;&gt;petal length (cm) &lt;= 1.90 -->\n<g id=\"edge1\" class=\"edge\">\n<title>root&#45;&gt;petal length (cm) &lt;= 1.90</title>\n<path fill=\"none\" stroke=\"black\" d=\"M138.69,-287.7C138.69,-279.98 138.69,-270.71 138.69,-262.11\"/>\n<polygon fill=\"black\" stroke=\"black\" points=\"142.19,-262.1 138.69,-252.1 135.19,-262.1 142.19,-262.1\"/>\n</g>\n<!-- petal length (cm) &lt;= 4.90 -->\n<g id=\"node5\" class=\"node\">\n<title>petal length (cm) &lt;= 4.90</title>\n<ellipse fill=\"none\" stroke=\"black\" cx=\"102.69\" cy=\"-90\" rx=\"102.88\" ry=\"18\"/>\n<text text-anchor=\"middle\" x=\"102.69\" y=\"-86.3\" font-family=\"Times,serif\" font-size=\"14.00\">petal length (cm) &lt;= 4.90</text>\n</g>\n<!-- petal width (cm) &lt;= 1.70&#45;&gt;petal length (cm) &lt;= 4.90 -->\n<g id=\"edge4\" class=\"edge\">\n<title>petal width (cm) &lt;= 1.70&#45;&gt;petal length (cm) &lt;= 4.90</title>\n<path fill=\"none\" stroke=\"black\" d=\"M188.43,-144.59C173.38,-135.18 154.28,-123.24 137.93,-113.02\"/>\n<polygon fill=\"black\" stroke=\"black\" points=\"139.51,-109.88 129.17,-107.55 135.8,-115.82 139.51,-109.88\"/>\n</g>\n<!-- petal length (cm) &lt;= 4.80 -->\n<g id=\"node7\" class=\"node\">\n<title>petal length (cm) &lt;= 4.80</title>\n<ellipse fill=\"none\" stroke=\"black\" cx=\"325.69\" cy=\"-90\" rx=\"102.88\" ry=\"18\"/>\n<text text-anchor=\"middle\" x=\"325.69\" y=\"-86.3\" font-family=\"Times,serif\" font-size=\"14.00\">petal length (cm) &lt;= 4.80</text>\n</g>\n<!-- petal width (cm) &lt;= 1.70&#45;&gt;petal length (cm) &lt;= 4.80 -->\n<g id=\"edge7\" class=\"edge\">\n<title>petal width (cm) &lt;= 1.70&#45;&gt;petal length (cm) &lt;= 4.80</title>\n<path fill=\"none\" stroke=\"black\" d=\"M240.72,-144.59C255.64,-135.18 274.56,-123.24 290.77,-113.02\"/>\n<polygon fill=\"black\" stroke=\"black\" points=\"292.85,-115.85 299.44,-107.55 289.12,-109.93 292.85,-115.85\"/>\n</g>\n<!-- versicolor -->\n<g id=\"node6\" class=\"node\">\n<title>versicolor</title>\n<ellipse fill=\"none\" stroke=\"black\" cx=\"102.69\" cy=\"-18\" rx=\"46.29\" ry=\"18\"/>\n<text text-anchor=\"middle\" x=\"102.69\" y=\"-14.3\" font-family=\"Times,serif\" font-size=\"14.00\">versicolor</text>\n</g>\n<!-- petal length (cm) &lt;= 4.90&#45;&gt;versicolor -->\n<g id=\"edge5\" class=\"edge\">\n<title>petal length (cm) &lt;= 4.90&#45;&gt;versicolor</title>\n<path fill=\"none\" stroke=\"black\" d=\"M96.78,-71.7C95.98,-63.98 95.75,-54.71 96.1,-46.11\"/>\n<polygon fill=\"black\" stroke=\"black\" points=\"99.59,-46.32 96.8,-36.1 92.61,-45.84 99.59,-46.32\"/>\n</g>\n<!-- petal length (cm) &lt;= 4.90&#45;&gt;versicolor -->\n<g id=\"edge6\" class=\"edge\">\n<title>petal length (cm) &lt;= 4.90&#45;&gt;versicolor</title>\n<path fill=\"none\" stroke=\"black\" d=\"M108.61,-71.7C109.4,-63.98 109.63,-54.71 109.29,-46.11\"/>\n<polygon fill=\"black\" stroke=\"black\" points=\"112.78,-45.84 108.59,-36.1 105.79,-46.32 112.78,-45.84\"/>\n</g>\n<!-- petal length (cm) &lt;= 4.80&#45;&gt;versicolor -->\n<g id=\"edge8\" class=\"edge\">\n<title>petal length (cm) &lt;= 4.80&#45;&gt;versicolor</title>\n<path fill=\"none\" stroke=\"black\" d=\"M277.85,-73.98C239.2,-61.85 185.2,-44.9 147.41,-33.04\"/>\n<polygon fill=\"black\" stroke=\"black\" points=\"148.28,-29.64 137.69,-29.99 146.18,-36.32 148.28,-29.64\"/>\n</g>\n<!-- virginica -->\n<g id=\"node8\" class=\"node\">\n<title>virginica</title>\n<ellipse fill=\"none\" stroke=\"black\" cx=\"325.69\" cy=\"-18\" rx=\"42.49\" ry=\"18\"/>\n<text text-anchor=\"middle\" x=\"325.69\" y=\"-14.3\" font-family=\"Times,serif\" font-size=\"14.00\">virginica</text>\n</g>\n<!-- petal length (cm) &lt;= 4.80&#45;&gt;virginica -->\n<g id=\"edge9\" class=\"edge\">\n<title>petal length (cm) &lt;= 4.80&#45;&gt;virginica</title>\n<path fill=\"none\" stroke=\"black\" d=\"M325.69,-71.7C325.69,-63.98 325.69,-54.71 325.69,-46.11\"/>\n<polygon fill=\"black\" stroke=\"black\" points=\"329.19,-46.1 325.69,-36.1 322.19,-46.1 329.19,-46.1\"/>\n</g>\n</g>\n</svg>\n",
            "text/plain": [
              "<graphviz.graphs.Digraph at 0x7f47c15d3cd0>"
            ]
          },
          "metadata": {},
          "execution_count": 8
        }
      ]
    },
    {
      "cell_type": "markdown",
      "source": [
        "#Evaluation"
      ],
      "metadata": {
        "id": "XIaBzZph79Pg"
      }
    },
    {
      "cell_type": "code",
      "source": [
        "from sklearn.metrics import accuracy_score, classification_report\n",
        "\n",
        "from sklearn.model_selection import train_test_split\n",
        "X_train, X_test, y_train, y_test = train_test_split(X, y, test_size=0.3, random_state=42)\n",
        "\n",
        "\n",
        "tree_model.fit(X_train, y_train)\n",
        "predictions = tree_model.predict(X_test)\n",
        "\n",
        "# Evaluate\n",
        "accuracy = accuracy_score(y_test, predictions)\n",
        "report = classification_report(y_test, predictions)\n",
        "\n",
        "print(f\"Accuracy: {accuracy}\")\n",
        "print(report)\n"
      ],
      "metadata": {
        "colab": {
          "base_uri": "https://localhost:8080/"
        },
        "id": "U6yZeSU5F4XD",
        "outputId": "e0bcb9f8-bc23-499e-eba0-c4fde4112868"
      },
      "execution_count": null,
      "outputs": [
        {
          "output_type": "stream",
          "name": "stdout",
          "text": [
            "Accuracy: 0.8444444444444444\n",
            "              precision    recall  f1-score   support\n",
            "\n",
            "      setosa       1.00      1.00      1.00        19\n",
            "  versicolor       0.69      0.85      0.76        13\n",
            "   virginica       0.80      0.62      0.70        13\n",
            "\n",
            "    accuracy                           0.84        45\n",
            "   macro avg       0.83      0.82      0.82        45\n",
            "weighted avg       0.85      0.84      0.84        45\n",
            "\n"
          ]
        }
      ]
    }
  ]
}
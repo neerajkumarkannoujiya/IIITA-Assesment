{
 "cells": [
  {
   "cell_type": "markdown",
   "metadata": {
    "id": "aIkmKW4Yp_HY"
   },
   "source": [
    "This is a matrix multiplication code using normal method"
   ]
  },
  {
   "cell_type": "code",
   "execution_count": 1,
   "metadata": {
    "colab": {
     "base_uri": "https://localhost:8080/"
    },
    "id": "6FO1bdXifnfj",
    "outputId": "11bc9600-e71f-4ccd-e365-226f60a019d5"
   },
   "outputs": [
    {
     "name": "stdout",
     "output_type": "stream",
     "text": [
      "The Multiplication of matrix is :\n",
      "[32, 36, 26]\n",
      "[26, 32, 26]\n",
      "[29, 31, 25]\n"
     ]
    }
   ],
   "source": [
    "X = [[2,4,4],\n",
    "     [4,3,2],\n",
    "     [2,4,3]]\n",
    "Y = [[2,4,3],\n",
    "     [4,2,4],\n",
    "     [3,5,1]]\n",
    "Result = [[0,0,0],\n",
    "          [0,0,0],\n",
    "          [0,0,0]]\n",
    "for i in range(len(X)):\n",
    "        for j in range(len(Y[0])):\n",
    "                for k in range(len(Y)):\n",
    "                        Result[i][j] += X[i][k] * Y[k][j]\n",
    "print(\"The Multiplication of matrix is :\")\n",
    "for r in Result:\n",
    "        print(r)\n"
   ]
  },
  {
   "cell_type": "markdown",
   "metadata": {
    "id": "0QaFX-duqHFg"
   },
   "source": [
    "Ths is Matrix multiplication code using numpy"
   ]
  },
  {
   "cell_type": "code",
   "execution_count": 2,
   "metadata": {
    "colab": {
     "base_uri": "https://localhost:8080/"
    },
    "id": "UIv-otvIp9sV",
    "outputId": "cbd7d789-bdab-43b1-92cd-4fb9e8631bc0"
   },
   "outputs": [
    {
     "name": "stdout",
     "output_type": "stream",
     "text": [
      "The Multiplication of matrix is :\n",
      "[[10 30 41]\n",
      " [20 60 56]\n",
      " [10 26 36]]\n"
     ]
    }
   ],
   "source": [
    "import numpy as np\n",
    "\n",
    "mat1 = ([2,4,1],[2,4,6],[3,2,1])\n",
    "mat2 = ([2,4,7],[1,4,6],[2,6,3])\n",
    "\n",
    "res = np.dot(mat1,mat2)\n",
    "\n",
    "print(\"The Multiplication of matrix is :\")\n",
    "print(res)"
   ]
  },
  {
   "cell_type": "markdown",
   "metadata": {
    "id": "R3unjJFjFhVb"
   },
   "source": [
    "**Operations on Matrices**"
   ]
  },
  {
   "cell_type": "code",
   "execution_count": 3,
   "metadata": {
    "colab": {
     "base_uri": "https://localhost:8080/"
    },
    "id": "zFox8K7AFPnh",
    "outputId": "1a3689c1-d741-4a6c-ae7e-d219acd157da"
   },
   "outputs": [
    {
     "name": "stdout",
     "output_type": "stream",
     "text": [
      "The rank of a matrix is :  3\n"
     ]
    }
   ],
   "source": [
    "# Rank Of Matrix\n",
    "\n",
    "import numpy as np\n",
    "\n",
    "Matrix1 = np.array([[2,3,5],[2,1,3],[2,1,1]])\n",
    "\n",
    "print(\"The rank of a matrix is : \",np.linalg.matrix_rank(Matrix1))"
   ]
  },
  {
   "cell_type": "code",
   "execution_count": 5,
   "metadata": {
    "id": "UogVFTAxI2EL"
   },
   "outputs": [
    {
     "name": "stdin",
     "output_type": "stream",
     "text": [
      "Enter the number of rows:  2\n",
      "Enter the number of columns:  2\n",
      " 1 2\n",
      " 1 4\n"
     ]
    },
    {
     "name": "stdout",
     "output_type": "stream",
     "text": [
      "Rank of the matrix: 2\n",
      "Nullity of matrix is :  0\n"
     ]
    }
   ],
   "source": [
    "# without numpy\n",
    "\n",
    "# def findRank(matrix):\n",
    "#     def swap(matrix, row1, row2):\n",
    "#         matrix[row1], matrix[row2] = matrix[row2], matrix[row1]\n",
    "\n",
    "#     n = len(matrix)\n",
    "#     m = len(matrix[0])\n",
    "#     rank = 0\n",
    "\n",
    "#     for row in range(n):\n",
    "#         if rank >= m:\n",
    "#             break\n",
    "#         if matrix[row][rank] != 0:\n",
    "#             for i in range(row + 1, n):\n",
    "#                 if matrix[i][rank] != 0:\n",
    "#                     factor = matrix[i][rank] / matrix[row][rank]\n",
    "#                     for j in range(rank, m):\n",
    "#                         matrix[i][j] -= factor * matrix[row][j]\n",
    "#             rank += 1\n",
    "#         else:\n",
    "#             for i in range(row + 1, n):\n",
    "#                 if matrix[i][rank] != 0:\n",
    "#                     swap(matrix, row, i)\n",
    "#                     break\n",
    "#             else:\n",
    "#               rank += 1\n",
    "#               row -= 1\n",
    "\n",
    "#     return rank\n",
    "\n",
    "\n",
    "\n",
    "def swap_rows(matrix, row1, row2):\n",
    "    matrix[row1], matrix[row2] = matrix[row2], matrix[row1]\n",
    "\n",
    "def findRank(matrix):\n",
    "    rows = len(matrix)\n",
    "    cols = len(matrix[0])\n",
    "    rank = 0\n",
    "\n",
    "    for r in range(rows):\n",
    "        if matrix[r][rank] != 0:\n",
    "            for i in range(r + 1, rows):\n",
    "                factor = matrix[i][rank] / matrix[r][rank]\n",
    "                for j in range(rank, cols):\n",
    "                    matrix[i][j] -= factor * matrix[r][j]\n",
    "            rank += 1\n",
    "        else:\n",
    "            for i in range(r + 1, rows):\n",
    "                if matrix[i][rank] != 0:\n",
    "                    swap_rows(matrix, r, i)\n",
    "                    rank += 1\n",
    "                    break\n",
    "\n",
    "    return rank\n",
    "\n",
    "\n",
    "\n",
    "def input_matrix():\n",
    "    rows = int(input(\"Enter the number of rows: \"))\n",
    "    cols = int(input(\"Enter the number of columns: \"))\n",
    "\n",
    "    matrix = []\n",
    "    for i in range(rows):\n",
    "        row = list(map(float, input().split()))\n",
    "        matrix.append(row)\n",
    "\n",
    "    return matrix\n",
    "\n",
    "matrix = input_matrix()\n",
    "\n",
    "\n",
    "rank = findRank(matrix)\n",
    "\n",
    "print(\"Rank of the matrix:\", rank)\n",
    "\n",
    "\n",
    "# Nullity of a matrix\n",
    "\n",
    "nullity = len(matrix[0])- rank\n",
    "print(\"Nullity of matrix is : \",nullity)"
   ]
  },
  {
   "cell_type": "code",
   "execution_count": 6,
   "metadata": {
    "colab": {
     "base_uri": "https://localhost:8080/"
    },
    "id": "utErBofQRXJt",
    "outputId": "ec183e51-e378-47ab-a278-c165c4f4fafd"
   },
   "outputs": [
    {
     "name": "stdout",
     "output_type": "stream",
     "text": [
      "Order of the matrix: (3, 3)\n"
     ]
    }
   ],
   "source": [
    "# Order of a matrix\n",
    "\n",
    "def matrix_order(matrix):\n",
    "    if not matrix or not matrix[0]:\n",
    "        return (0, 0)\n",
    "    return (len(matrix), len(matrix[0]))\n",
    "\n",
    "\n",
    "\n",
    "matrix = [\n",
    "    [2,4,1],\n",
    "    [6,9,2],\n",
    "    [3,5,1]\n",
    "]\n",
    "\n",
    "order = matrix_order(matrix)\n",
    "print(\"Order of the matrix:\", order)"
   ]
  },
  {
   "cell_type": "code",
   "execution_count": null,
   "metadata": {
    "colab": {
     "base_uri": "https://localhost:8080/"
    },
    "id": "tR720bP0Sl22",
    "outputId": "25b898ca-25a0-4279-c517-f5d860727965"
   },
   "outputs": [
    {
     "name": "stdout",
     "output_type": "stream",
     "text": [
      "Determinnt of the matrix: 7\n",
      "The matrix is Non-singular\n",
      "Trace of matrix is :  6\n"
     ]
    }
   ],
   "source": [
    "# Determinant of a matrix\n",
    "\n",
    "def det(matrix):\n",
    "    if len(matrix) == 2:\n",
    "        return matrix[0][0] * matrix[1][1] - matrix[0][1] * matrix[1][0]\n",
    "\n",
    "    deter = 0\n",
    "    for i in range(len(matrix)):\n",
    "        sub_matrix = [row[:i] + row[i+1:] for row in matrix[1:]]\n",
    "        deter += ((-1) ** i) * matrix[0][i] * det(sub_matrix)\n",
    "\n",
    "    return deter\n",
    "\n",
    "matrix = ([\n",
    "    [2,7,1],\n",
    "    [6,3,2],\n",
    "    [3,5,1]\n",
    "])\n",
    "\n",
    "det = det(matrix)\n",
    "print(\"Determinnt of the matrix:\", det)\n",
    "\n",
    "\n",
    "\n",
    "# Singular matrix\n",
    "\n",
    "if(det==0):\n",
    "  print(\"The matrix is singular\")\n",
    "\n",
    "\n",
    "\n",
    "\n",
    "# Non-Singular matrix\n",
    "\n",
    "if(det!=0):\n",
    "  print(\"The matrix is Non-singular\")\n",
    "\n",
    "\n",
    "\n",
    "# Trace of a matrix\n",
    "\n",
    "sum=0\n",
    "for i in range(len(matrix)):\n",
    "  sum += matrix[i][i]\n",
    "\n",
    "\n",
    "print(\"Trace of matrix is : \",sum)\n",
    "\n"
   ]
  },
  {
   "cell_type": "markdown",
   "metadata": {
    "id": "jXqNtPLUdRqm"
   },
   "source": [
    "**Inverse of matrix**"
   ]
  },
  {
   "cell_type": "code",
   "execution_count": null,
   "metadata": {
    "colab": {
     "base_uri": "https://localhost:8080/"
    },
    "id": "6MJcLLk2dQAh",
    "outputId": "e10e7123-38f3-4c92-acd0-192efe62461a"
   },
   "outputs": [
    {
     "name": "stdout",
     "output_type": "stream",
     "text": [
      "Inverse of the matrix:\n",
      "[-1.0, 0.5, 0.0]\n",
      "[0.0, -0.5, 1.0]\n",
      "[3.0, 1.0, -4.0]\n"
     ]
    }
   ],
   "source": [
    "def minor(matrix, row, col):\n",
    "    return [[matrix[i][j] for j in range(len(matrix[i])) if j != col] for i in range(len(matrix)) if i != row]\n",
    "\n",
    "def determinant(matrix):\n",
    "    n = len(matrix)\n",
    "    if n == 1:\n",
    "        return matrix[0][0]\n",
    "    if n == 2:\n",
    "        return matrix[0][0] * matrix[1][1] - matrix[0][1] * matrix[1][0]\n",
    "    return sum(((-1) ** c) * matrix[0][c] * determinant(minor(matrix, 0, c)) for c in range(n))\n",
    "\n",
    "def cofactor(matrix):\n",
    "    n = len(matrix)\n",
    "    return [[((-1) ** (r + c)) * determinant(minor(matrix, r, c)) for c in range(n)] for r in range(n)]\n",
    "\n",
    "def transpose(matrix):\n",
    "    return [list(row) for row in zip(*matrix)]\n",
    "\n",
    "def matrix_inverse(matrix):\n",
    "    det = determinant(matrix)\n",
    "    if det == 0:\n",
    "        raise ValueError(\"Matrix is singular and cannot be inverted.\")\n",
    "    cofactors = cofactor(matrix)\n",
    "    adjugate = transpose(cofactors)\n",
    "    return [[element / det for element in row] for row in adjugate]\n",
    "\n",
    "\n",
    "\n",
    "\n",
    "\n",
    "\n",
    "matrix = ([\n",
    "    [2,4,1],\n",
    "    [6,8,2],\n",
    "    [3,5,1]\n",
    "])\n",
    "\n",
    "inverse = matrix_inverse(matrix)\n",
    "print(\"Inverse of the matrix:\")\n",
    "for row in inverse:\n",
    "    print(row)\n"
   ]
  },
  {
   "cell_type": "markdown",
   "metadata": {
    "id": "BfczkYuRn9UP"
   },
   "source": [
    "**Write a Python function that verifies the solution of the system AX=b**"
   ]
  },
  {
   "cell_type": "code",
   "execution_count": null,
   "metadata": {
    "id": "ANrnl3Vk0V_h"
   },
   "outputs": [],
   "source": [
    "# prompt: Write a Python function that verifies the solution of the system AX=b write the code without using numpy\n",
    "\n",
    "def verify_solution(A, X, b):\n",
    "\n",
    "  rows_A = len(A)\n",
    "  cols_A = len(A[0])\n",
    "  if rows_A != len(b) or cols_A != len(X):\n",
    "    raise ValueError(\"Dimensions of A, X, and b are not compatible for matrix multiplication.\")\n",
    "\n",
    "  AX = [[0] * 1 for _ in range(rows_A)]\n",
    "  for i in range(rows_A):\n",
    "    for j in range(cols_A):\n",
    "      AX[i][0] += A[i][j] * X[j]\n",
    "\n",
    "  for i in range(len(AX)):\n",
    "    if abs(AX[i][0] - b[i]) > 1e-6:\n",
    "      return False\n",
    "\n",
    "  return True\n",
    "\n",
    "\n",
    "A = [[2, 3], [4, 1]]\n",
    "X = [1, 2]\n",
    "b = [8, 6]\n",
    "\n",
    "if verify_solution(A, X, b):\n",
    "  print(\"The solution is correct.\")\n",
    "else:\n",
    "  print(\"The solution is incorrect.\")\n"
   ]
  },
  {
   "cell_type": "markdown",
   "metadata": {
    "id": "c_hoHQtMwfd2"
   },
   "source": [
    "**Write a Python program that solves the system of linear equations  for ax=b**"
   ]
  },
  {
   "cell_type": "code",
   "execution_count": null,
   "metadata": {
    "colab": {
     "base_uri": "https://localhost:8080/"
    },
    "id": "KtB3HmKBwEHl",
    "outputId": "ea58594b-338c-48ae-f1cd-4d0b992b5dfe"
   },
   "outputs": [
    {
     "name": "stdout",
     "output_type": "stream",
     "text": [
      "Solution: [-3.0, 8.0, -6.0]\n"
     ]
    }
   ],
   "source": [
    "def solve(A, b):\n",
    "    n = len(A)\n",
    "    matrix = [row[:] + [b[i]] for i, row in enumerate(A)]\n",
    "\n",
    "    for i in range(n):\n",
    "        pivot = matrix[i][i]\n",
    "        if pivot == 0:\n",
    "            for j in range(i + 1, n):\n",
    "                if matrix[j][i] != 0:\n",
    "                    matrix[i], matrix[j] = matrix[j], matrix[i]\n",
    "                    pivot = matrix[i][i]\n",
    "                    break\n",
    "            else:\n",
    "                return None\n",
    "\n",
    "        for j in range(n + 1):\n",
    "            matrix[i][j] /= pivot\n",
    "\n",
    "        for j in range(n):\n",
    "            if i != j:\n",
    "                factor = matrix[j][i]\n",
    "                for k in range(n + 1):\n",
    "                    matrix[j][k] -= factor * matrix[i][k]\n",
    "\n",
    "    x = [row[-1] for row in matrix]\n",
    "    return x\n",
    "\n",
    "\n",
    "# Example usage:\n",
    "A = [[2, 1, -1],\n",
    "     [-3, -1, 2],\n",
    "     [-2, 1, 2]]\n",
    "b = [8, -11, 2]\n",
    "\n",
    "solution = solve(A, b)\n",
    "\n",
    "if solution:\n",
    "    print(\"Solution:\", solution)\n",
    "else:\n",
    "    print(\"The system is either inconsistent\")\n"
   ]
  },
  {
   "cell_type": "markdown",
   "metadata": {
    "id": "EaL_HQHhx2l2"
   },
   "source": [
    "**Write a Python program to find the inverse of matrix A  and use it to solve for x in  Ax=b**"
   ]
  },
  {
   "cell_type": "code",
   "execution_count": 7,
   "metadata": {
    "colab": {
     "base_uri": "https://localhost:8080/"
    },
    "id": "mpii-Z41zGX9",
    "outputId": "b1e552e5-93c1-4ee1-dbac-696ccd321e3c"
   },
   "outputs": [
    {
     "name": "stdout",
     "output_type": "stream",
     "text": [
      "Solution x:\n",
      "[-3.0]\n",
      "[8.0]\n",
      "[-6.0]\n"
     ]
    }
   ],
   "source": [
    "def minor(matrix, row, col):\n",
    "    return [[matrix[i][j] for j in range(len(matrix[i])) if j != col] for i in range(len(matrix)) if i != row]\n",
    "\n",
    "def determinant(matrix):\n",
    "    n = len(matrix)\n",
    "    if n == 1:\n",
    "        return matrix[0][0]\n",
    "    if n == 2:\n",
    "        return matrix[0][0] * matrix[1][1] - matrix[0][1] * matrix[1][0]\n",
    "    return sum(((-1) ** c) * matrix[0][c] * determinant(minor(matrix, 0, c)) for c in range(n))\n",
    "\n",
    "def cofactor(matrix):\n",
    "    n = len(matrix)\n",
    "    return [[((-1) ** (r + c)) * determinant(minor(matrix, r, c)) for c in range(n)] for r in range(n)]\n",
    "\n",
    "def transpose(matrix):\n",
    "    return [list(row) for row in zip(*matrix)]\n",
    "\n",
    "def matrix_inverse(matrix):\n",
    "    det = determinant(matrix)\n",
    "    if det == 0:\n",
    "        raise ValueError()\n",
    "    cofactors = cofactor(matrix)\n",
    "    adjugate = transpose(cofactors)\n",
    "    return [[element / det for element in row] for row in adjugate]\n",
    "\n",
    "def matrix_multiply(A, X):\n",
    "    rows_A = len(A)\n",
    "    cols_A = len(A[0]) if rows_A > 0 else 0\n",
    "    rows_X = len(X)\n",
    "    cols_X = len(X[0]) if rows_X > 0 else 0\n",
    "\n",
    "    if cols_A != rows_X:\n",
    "        raise ValueError()\n",
    "\n",
    "    result = [[0] * cols_X for _ in range(rows_A)]\n",
    "\n",
    "    for i in range(rows_A):\n",
    "        for j in range(cols_X):\n",
    "            for k in range(cols_A):\n",
    "                result[i][j] += A[i][k] * X[k][j]\n",
    "\n",
    "    return result\n",
    "\n",
    "\n",
    "A = [[2, 1, -1],\n",
    "     [-3, -1, 2],\n",
    "     [-2, 1, 2]]\n",
    "b = [[8], [-11], [2]]\n",
    "\n",
    "try:\n",
    "    inverse_A = matrix_inverse(A)\n",
    "    x = matrix_multiply(inverse_A, b)\n",
    "    print(\"Solution x:\")\n",
    "    for row in x:\n",
    "        print(row)\n",
    "except ValueError:\n",
    "    print(\"The matrix is singular\")"
   ]
  },
  {
   "cell_type": "code",
   "execution_count": 12,
   "metadata": {},
   "outputs": [
    {
     "name": "stdin",
     "output_type": "stream",
     "text": [
      "Enter No. of rows :  3\n",
      "Enter No. of cols :  3\n",
      " 1 2 3\n",
      " 4 5 6\n",
      " 7 8 9\n"
     ]
    },
    {
     "name": "stdout",
     "output_type": "stream",
     "text": [
      "[1, 2, 3]\n",
      "[4, 5, 6]\n",
      "[7, 8, 9]\n"
     ]
    }
   ],
   "source": [
    "def input_matrix():\n",
    "    rows = int(input(\"Enter No. of rows : \"))\n",
    "    cols = int(input(\"Enter No. of cols : \"))\n",
    "\n",
    "    matrix = []\n",
    "    for i in range(rows):\n",
    "        row = list(map(int,input().split()))\n",
    "        matrix.append(row)\n",
    "\n",
    "    return matrix\n",
    "\n",
    "\n",
    "matrix = input_matrix()\n",
    "# print(matrix)\n",
    "\n",
    "for row in matrix:\n",
    "    print(row)\n",
    "    "
   ]
  },
  {
   "cell_type": "code",
   "execution_count": null,
   "metadata": {},
   "outputs": [],
   "source": []
  }
 ],
 "metadata": {
  "colab": {
   "provenance": [],
   "toc_visible": true
  },
  "kernelspec": {
   "display_name": "Python 3 (ipykernel)",
   "language": "python",
   "name": "python3"
  },
  "language_info": {
   "codemirror_mode": {
    "name": "ipython",
    "version": 3
   },
   "file_extension": ".py",
   "mimetype": "text/x-python",
   "name": "python",
   "nbconvert_exporter": "python",
   "pygments_lexer": "ipython3",
   "version": "3.12.3"
  }
 },
 "nbformat": 4,
 "nbformat_minor": 4
}

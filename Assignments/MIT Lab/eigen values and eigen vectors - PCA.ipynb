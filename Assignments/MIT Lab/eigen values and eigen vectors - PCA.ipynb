{
 "cells": [
  {
   "cell_type": "code",
   "execution_count": 1,
   "id": "baf9fbda",
   "metadata": {},
   "outputs": [
    {
     "name": "stdout",
     "output_type": "stream",
     "text": [
      "Eigenvalue: 4.618033988749896\n",
      "Eigenvector: [0.85065080835204, 0.5257311121191337]\n"
     ]
    }
   ],
   "source": [
    "import math\n",
    "def dot_product(v1, v2):\n",
    "    return sum(x * y for x, y in zip(v1, v2))\n",
    "\n",
    "def matrix_vector_mult(matrix, vector):\n",
    "    return [dot_product(row, vector) for row in matrix]\n",
    "\n",
    "def vector_norm(vector):\n",
    "    return math.sqrt(dot_product(vector, vector))\n",
    "\n",
    "def power_iteration(matrix, num_iterations=1000):\n",
    "    n = len(matrix)\n",
    "    b_k = [1] * n\n",
    "\n",
    "    for _ in range(num_iterations):\n",
    "        b_k1 = matrix_vector_mult(matrix, b_k)\n",
    "        b_k1_norm = vector_norm(b_k1)\n",
    "        b_k = [x / b_k1_norm for x in b_k1]\n",
    "\n",
    "    eigenvalue = dot_product(matrix_vector_mult(matrix, b_k), b_k)\n",
    "    return eigenvalue, b_k\n",
    "\n",
    "matrix = [\n",
    "    [4, 1],\n",
    "    [1, 3]\n",
    "]\n",
    "\n",
    "eigenvalue, eigenvector = power_iteration(matrix)\n",
    "\n",
    "print(\"Eigenvalue:\", eigenvalue)\n",
    "print(\"Eigenvector:\", eigenvector)\n"
   ]
  }
 ],
 "metadata": {
  "kernelspec": {
   "display_name": "Python 3 (ipykernel)",
   "language": "python",
   "name": "python3"
  },
  "language_info": {
   "codemirror_mode": {
    "name": "ipython",
    "version": 3
   },
   "file_extension": ".py",
   "mimetype": "text/x-python",
   "name": "python",
   "nbconvert_exporter": "python",
   "pygments_lexer": "ipython3",
   "version": "3.9.12"
  }
 },
 "nbformat": 4,
 "nbformat_minor": 5
}

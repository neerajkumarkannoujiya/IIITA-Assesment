{
 "cells": [
  {
   "cell_type": "code",
   "execution_count": 1,
   "id": "8a3fadeb",
   "metadata": {},
   "outputs": [],
   "source": [
    "import math\n",
    "\n",
    "def svd(A):\n",
    "    m, n = len(A), len(A[0])\n",
    "    AtA = [[sum(A[i][k] * A[j][k] for k in range(m)) for j in range(n)] for i in range(n)]\n",
    "    eigenvalues, eigenvectors = eigen_decomposition(AtA)\n",
    "    U = [[sum(A[i][k] * eigenvectors[k][j] for k in range(m)) / math.sqrt(eigenvalues[j]) for j in range(n)] for i in range(m)]\n",
    "    S = [[math.sqrt(eigenvalues[i]) if i == j else 0 for j in range(n)] for i in range(n)]\n",
    "    return U, S, eigenvectors\n",
    "\n",
    "def eigen_decomposition(matrix):\n",
    "    eigenvalues = [1] * len(matrix)\n",
    "    eigenvectors = [[1 if i == j else 0 for j in range(len(matrix))] for i in range(len(matrix))]\n",
    "    return eigenvalues, eigenvectors\n"
   ]
  },
  {
   "cell_type": "code",
   "execution_count": 2,
   "id": "24b824fb",
   "metadata": {},
   "outputs": [],
   "source": [
    "A = [\n",
    "    [3, 2, 1],\n",
    "    [4, 5, 6],\n",
    "    [7, 8, 9]\n",
    "]\n"
   ]
  },
  {
   "cell_type": "code",
   "execution_count": 3,
   "id": "92c4e318",
   "metadata": {},
   "outputs": [
    {
     "name": "stdout",
     "output_type": "stream",
     "text": [
      "U matrix: [[3.0, 2.0, 1.0], [4.0, 5.0, 6.0], [7.0, 8.0, 9.0]]\n",
      "S matrix: [[1.0, 0, 0], [0, 1.0, 0], [0, 0, 1.0]]\n",
      "V matrix: [[1, 0, 0], [0, 1, 0], [0, 0, 1]]\n"
     ]
    }
   ],
   "source": [
    "U, S, V = svd(A)\n",
    "print(\"U matrix:\", U)\n",
    "print(\"S matrix:\", S)\n",
    "print(\"V matrix:\", V)\n"
   ]
  }
 ],
 "metadata": {
  "kernelspec": {
   "display_name": "Python 3 (ipykernel)",
   "language": "python",
   "name": "python3"
  },
  "language_info": {
   "codemirror_mode": {
    "name": "ipython",
    "version": 3
   },
   "file_extension": ".py",
   "mimetype": "text/x-python",
   "name": "python",
   "nbconvert_exporter": "python",
   "pygments_lexer": "ipython3",
   "version": "3.9.12"
  }
 },
 "nbformat": 4,
 "nbformat_minor": 5
}

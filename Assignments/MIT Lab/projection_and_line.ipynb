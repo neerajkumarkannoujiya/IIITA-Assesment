{
 "cells": [
  {
   "cell_type": "code",
   "execution_count": 2,
   "id": "7d6bdb33",
   "metadata": {},
   "outputs": [
    {
     "name": "stdout",
     "output_type": "stream",
     "text": [
      "Projection in 2D:\n",
      "[3.0, 0.0]\n",
      "\n",
      "Projection in 3D:\n",
      "[2.0, 2.0, 2.0]\n"
     ]
    }
   ],
   "source": [
    "\n",
    "def dot_product(v1, v2):\n",
    "    return sum(v1[i] * v2[i] for i in range(len(v1)))\n",
    "\n",
    "\n",
    "def project_point_onto_line(point, line_start, line_end):\n",
    "    direction = [line_end[i] - line_start[i] for i in range(len(line_start))]\n",
    "    point_to_line_start = [point[i] - line_start[i] for i in range(len(point))]\n",
    "    t = dot_product(point_to_line_start, direction) / dot_product(direction, direction)\n",
    "    projection = [line_start[i] + t * direction[i] for i in range(len(line_start))]\n",
    "    return projection\n",
    "\n",
    "\n",
    "point_2d = [3, 4]  \n",
    "line_start_2d = [0, 0]  \n",
    "line_end_2d = [5, 0]  \n",
    "\n",
    "projection_2d = project_point_onto_line(point_2d, line_start_2d, line_end_2d)\n",
    "print(\"Projection in 2D:\")\n",
    "print(projection_2d)\n",
    "\n",
    "\n",
    "point_3d = [1, 2, 3]  \n",
    "line_start_3d = [0, 0, 0]  \n",
    "line_end_3d = [1, 1, 1]  \n",
    "\n",
    "projection_3d = project_point_onto_line(point_3d, line_start_3d, line_end_3d)\n",
    "print(\"\\nProjection in 3D:\")\n",
    "print(projection_3d)\n"
   ]
  }
 ],
 "metadata": {
  "kernelspec": {
   "display_name": "Python 3 (ipykernel)",
   "language": "python",
   "name": "python3"
  },
  "language_info": {
   "codemirror_mode": {
    "name": "ipython",
    "version": 3
   },
   "file_extension": ".py",
   "mimetype": "text/x-python",
   "name": "python",
   "nbconvert_exporter": "python",
   "pygments_lexer": "ipython3",
   "version": "3.9.12"
  }
 },
 "nbformat": 4,
 "nbformat_minor": 5
}

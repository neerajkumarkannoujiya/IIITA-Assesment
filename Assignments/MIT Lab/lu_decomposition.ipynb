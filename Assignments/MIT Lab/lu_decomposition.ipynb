{
 "cells": [
  {
   "cell_type": "code",
   "execution_count": 1,
   "id": "dd46625b",
   "metadata": {},
   "outputs": [
    {
     "name": "stdout",
     "output_type": "stream",
     "text": [
      "Matrix A:\n",
      "[2, -1, -2]\n",
      "[-4, 6, 3]\n",
      "[-4, -2, 8]\n",
      "\n",
      "Lower Triangular Matrix L:\n",
      "[1, 0, 0]\n",
      "[-2.0, 1, 0]\n",
      "[-2.0, -1.0, 1]\n",
      "\n",
      "Upper Triangular Matrix U:\n",
      "[2, -1, -2]\n",
      "[0, 4.0, -1.0]\n",
      "[0, 0, 3.0]\n"
     ]
    }
   ],
   "source": [
    "def lu_decomposition(mat):\n",
    "    n = len(mat)\n",
    "    L = [[0 for _ in range(n)] for _ in range(n)]\n",
    "    U = [[0 for _ in range(n)] for _ in range(n)]\n",
    "    \n",
    "    for i in range(n):\n",
    "        for j in range(i, n):\n",
    "            U[i][j] = mat[i][j] - sum(L[i][k] * U[k][j] for k in range(i))\n",
    "        for j in range(i, n):\n",
    "            if i == j:\n",
    "                L[i][i] = 1\n",
    "            else:\n",
    "                L[j][i] = (mat[j][i] - sum(L[j][k] * U[k][i] for k in range(i))) / U[i][i]\n",
    "    return L, U\n",
    "\n",
    "# Example matrix\n",
    "A = [\n",
    "    [2, -1, -2],\n",
    "    [-4, 6, 3],\n",
    "    [-4, -2, 8]\n",
    "]\n",
    "\n",
    "L, U = lu_decomposition(A)\n",
    "\n",
    "print(\"Matrix A:\")\n",
    "for row in A:\n",
    "    print(row)\n",
    "\n",
    "print(\"\\nLower Triangular Matrix L:\")\n",
    "for row in L:\n",
    "    print(row)\n",
    "\n",
    "print(\"\\nUpper Triangular Matrix U:\")\n",
    "for row in U:\n",
    "    print(row)\n"
   ]
  }
 ],
 "metadata": {
  "kernelspec": {
   "display_name": "Python 3 (ipykernel)",
   "language": "python",
   "name": "python3"
  },
  "language_info": {
   "codemirror_mode": {
    "name": "ipython",
    "version": 3
   },
   "file_extension": ".py",
   "mimetype": "text/x-python",
   "name": "python",
   "nbconvert_exporter": "python",
   "pygments_lexer": "ipython3",
   "version": "3.9.12"
  }
 },
 "nbformat": 4,
 "nbformat_minor": 5
}

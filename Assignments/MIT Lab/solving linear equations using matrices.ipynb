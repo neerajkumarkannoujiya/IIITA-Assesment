{
 "cells": [
  {
   "cell_type": "code",
   "execution_count": 1,
   "id": "329ab9b2",
   "metadata": {},
   "outputs": [
    {
     "name": "stdout",
     "output_type": "stream",
     "text": [
      "Solution (X):\n",
      "[0.2777777777777781]\n",
      "[2.5]\n",
      "[-0.5555555555555562]\n"
     ]
    }
   ],
   "source": [
    "# Function to find the determinant of a matrix\n",
    "def determinant(mat):\n",
    "    if len(mat) == 2:  # Base case for 2x2 matrix\n",
    "        return mat[0][0] * mat[1][1] - mat[0][1] * mat[1][0]\n",
    "    det = 0\n",
    "    for col in range(len(mat)):\n",
    "        sub_matrix = [row[:col] + row[col+1:] for row in mat[1:]]\n",
    "        det += ((-1) ** col) * mat[0][col] * determinant(sub_matrix)\n",
    "    return det\n",
    "\n",
    "# Function to find the cofactor matrix\n",
    "def cofactor(mat):\n",
    "    rows, cols = len(mat), len(mat[0])\n",
    "    cofactors = []\n",
    "    for i in range(rows):\n",
    "        cofactor_row = []\n",
    "        for j in range(cols):\n",
    "            sub_matrix = [row[:j] + row[j+1:] for row in mat[:i] + mat[i+1:]]\n",
    "            cofactor_row.append(((-1) ** (i + j)) * determinant(sub_matrix))\n",
    "        cofactors.append(cofactor_row)\n",
    "    return cofactors\n",
    "\n",
    "# Function to transpose a matrix\n",
    "def transpose(mat):\n",
    "    rows, cols = len(mat), len(mat[0])\n",
    "    return [[mat[j][i] for j in range(rows)] for i in range(cols)]\n",
    "\n",
    "# Function to find the inverse of a matrix\n",
    "def inverse(mat):\n",
    "    det = determinant(mat)\n",
    "    if det == 0:\n",
    "        raise ValueError(\"Matrix is not invertible (determinant is zero).\")\n",
    "    adjoint = transpose(cofactor(mat))\n",
    "    return [[adjoint[i][j] / det for j in range(len(mat))] for i in range(len(mat))]\n",
    "\n",
    "# Solving AX = B\n",
    "def solve_linear_equations(A, B):\n",
    "    try:\n",
    "        A_inv = inverse(A)  # Inverse of A\n",
    "        # Multiply A_inv with B to find X\n",
    "        X = [[sum(A_inv[i][k] * B[k][j] for k in range(len(A))) for j in range(len(B[0]))] for i in range(len(A))]\n",
    "        return X\n",
    "    except ValueError as e:\n",
    "        return str(e)\n",
    "\n",
    "# Example system of equations:\n",
    "# 2x + 4y + z = 10\n",
    "# 6x + 8y + 3z = 20\n",
    "# x + 7y + 5z = 15\n",
    "\n",
    "A = [\n",
    "    [2, 4, 1],\n",
    "    [6, 8, 3],\n",
    "    [1, 7, 5]\n",
    "]  # Coefficient matrix\n",
    "\n",
    "B = [\n",
    "    [10],\n",
    "    [20],\n",
    "    [15]\n",
    "]  # Constant matrix\n",
    "\n",
    "# Solve for X\n",
    "solution = solve_linear_equations(A, B)\n",
    "\n",
    "print(\"Solution (X):\")\n",
    "if isinstance(solution, str):\n",
    "    print(\"Error:\", solution)\n",
    "else:\n",
    "    for row in solution:\n",
    "        print(row)\n"
   ]
  }
 ],
 "metadata": {
  "kernelspec": {
   "display_name": "Python 3 (ipykernel)",
   "language": "python",
   "name": "python3"
  },
  "language_info": {
   "codemirror_mode": {
    "name": "ipython",
    "version": 3
   },
   "file_extension": ".py",
   "mimetype": "text/x-python",
   "name": "python",
   "nbconvert_exporter": "python",
   "pygments_lexer": "ipython3",
   "version": "3.9.12"
  }
 },
 "nbformat": 4,
 "nbformat_minor": 5
}

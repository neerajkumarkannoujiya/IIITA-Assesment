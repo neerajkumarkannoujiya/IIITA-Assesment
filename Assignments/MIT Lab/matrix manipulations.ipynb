{
 "cells": [
  {
   "cell_type": "code",
   "execution_count": 1,
   "id": "9a653539",
   "metadata": {},
   "outputs": [
    {
     "name": "stdout",
     "output_type": "stream",
     "text": [
      "Matrix:\n",
      "[2, 4, 1]\n",
      "[6, 8, 3]\n",
      "[1, 7, 5]\n",
      "\n",
      "Order of matrix: (3, 3)\n",
      "\n",
      "Determinant: -36\n",
      "\n",
      "Transpose:\n",
      "[2, 6, 1]\n",
      "[4, 8, 7]\n",
      "[1, 3, 5]\n",
      "\n",
      "Trace: 15\n",
      "\n",
      "Rank: 3\n",
      "\n",
      "Inverse:\n",
      "[-0.5277777777777778, 0.3611111111111111, -0.1111111111111111]\n",
      "[0.75, -0.25, -0.0]\n",
      "[-0.9444444444444444, 0.2777777777777778, 0.2222222222222222]\n"
     ]
    }
   ],
   "source": [
    "# Define a matrix as a list of lists\n",
    "matrix = [\n",
    "    [2, 4, 1],\n",
    "    [6, 8, 3],\n",
    "    [1, 7, 5]\n",
    "]\n",
    "\n",
    "# Print the matrix\n",
    "def print_matrix(mat):\n",
    "    for row in mat:\n",
    "        print(row)\n",
    "\n",
    "# Matrix order\n",
    "def matrix_order(mat):\n",
    "    return len(mat), len(mat[0])\n",
    "\n",
    "# Determinant (recursive implementation for 3x3 or smaller)\n",
    "def determinant(mat):\n",
    "    if len(mat) == 2:  # Base case for 2x2 matrix\n",
    "        return mat[0][0] * mat[1][1] - mat[0][1] * mat[1][0]\n",
    "    det = 0\n",
    "    for col in range(len(mat)):\n",
    "        sub_matrix = [row[:col] + row[col+1:] for row in mat[1:]]\n",
    "        det += ((-1) ** col) * mat[0][col] * determinant(sub_matrix)\n",
    "    return det\n",
    "\n",
    "# Trace (sum of diagonal elements)\n",
    "def trace(mat):\n",
    "    return sum(mat[i][i] for i in range(len(mat)))\n",
    "\n",
    "# Compute rank (using row reduction)\n",
    "def rank(mat):\n",
    "    mat = [row[:] for row in mat]  # Create a copy to avoid modifying the original\n",
    "    rows, cols = len(mat), len(mat[0])\n",
    "    rank = 0\n",
    "    for col in range(cols):\n",
    "        for row in range(rank, rows):\n",
    "            if mat[row][col] != 0:\n",
    "                mat[rank], mat[row] = mat[row], mat[rank]\n",
    "                for r in range(rank + 1, rows):\n",
    "                    factor = mat[r][col] / mat[rank][col]\n",
    "                    mat[r] = [mat[r][c] - factor * mat[rank][c] for c in range(cols)]\n",
    "                rank += 1\n",
    "                break\n",
    "    return rank\n",
    "\n",
    "# Display results\n",
    "print(\"Matrix:\")\n",
    "print_matrix(matrix)\n",
    "print(\"\\nOrder of matrix:\", matrix_order(matrix))\n",
    "print(\"\\nDeterminant:\", determinant(matrix))\n",
    "print(\"\\nTranspose:\")\n",
    "print_matrix(transpose(matrix))\n",
    "print(\"\\nTrace:\", trace(matrix))\n",
    "print(\"\\nRank:\", rank(matrix))\n"
   ]
  },
  {
   "cell_type": "code",
   "execution_count": 2,
   "id": "bbc29b85",
   "metadata": {},
   "outputs": [],
   "source": [
    "# Cofactor matrix\n",
    "def cofactor(mat):\n",
    "    rows, cols = len(mat), len(mat[0])\n",
    "    cofactors = []\n",
    "    for i in range(rows):\n",
    "        cofactor_row = []\n",
    "        for j in range(cols):\n",
    "            sub_matrix = [row[:j] + row[j+1:] for row in mat[:i] + mat[i+1:]]\n",
    "            cofactor_row.append(((-1) ** (i + j)) * determinant(sub_matrix))\n",
    "        cofactors.append(cofactor_row)\n",
    "    return cofactors\n",
    "\n",
    "# Transpose\n",
    "def transpose(mat):\n",
    "    rows, cols = len(mat), len(mat[0])\n",
    "    return [[mat[j][i] for j in range(rows)] for i in range(cols)]\n",
    "\n",
    "# Matrix inverse\n",
    "def inverse(mat):\n",
    "    det = determinant(mat)\n",
    "    if det == 0:\n",
    "        raise ValueError(\"Matrix is not invertible (determinant is zero).\")\n",
    "    adjoint = transpose(cofactor(mat))\n",
    "    return [[adjoint[i][j] / det for j in range(len(mat))] for i in range(len(mat))]"
   ]
  },
  {
   "cell_type": "code",
   "execution_count": 3,
   "id": "56d21400",
   "metadata": {},
   "outputs": [
    {
     "name": "stdout",
     "output_type": "stream",
     "text": [
      "\n",
      "Inverse:\n",
      "[-0.5277777777777778, 0.3611111111111111, -0.1111111111111111]\n",
      "[0.75, -0.25, -0.0]\n",
      "[-0.9444444444444444, 0.2777777777777778, 0.2222222222222222]\n"
     ]
    }
   ],
   "source": [
    "try:\n",
    "    print(\"\\nInverse:\")\n",
    "    print_matrix(inverse(matrix))\n",
    "except ValueError as e:\n",
    "    print(\"\\nInverse: Error -\", e)\n"
   ]
  }
 ],
 "metadata": {
  "kernelspec": {
   "display_name": "Python 3 (ipykernel)",
   "language": "python",
   "name": "python3"
  },
  "language_info": {
   "codemirror_mode": {
    "name": "ipython",
    "version": 3
   },
   "file_extension": ".py",
   "mimetype": "text/x-python",
   "name": "python",
   "nbconvert_exporter": "python",
   "pygments_lexer": "ipython3",
   "version": "3.9.12"
  }
 },
 "nbformat": 4,
 "nbformat_minor": 5
}

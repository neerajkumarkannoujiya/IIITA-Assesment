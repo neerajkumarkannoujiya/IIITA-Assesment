{
 "cells": [
  {
   "cell_type": "markdown",
   "metadata": {
    "id": "kr2km--6wVPl"
   },
   "source": [
    "## Find Eigen Values and Eigen Vectors\n"
   ]
  },
  {
   "cell_type": "code",
   "execution_count": 1,
   "metadata": {
    "id": "v236nTkN6jId"
   },
   "outputs": [],
   "source": [
    "import math\n",
    "\n",
    "def determinant_3x3(matrix):\n",
    "    \"\"\"Calculate the determinant of a 3x3 matrix\"\"\"\n",
    "    return (matrix[0][0] * (matrix[1][1] * matrix[2][2] - matrix[1][2] * matrix[2][1]) -\n",
    "            matrix[0][1] * (matrix[1][0] * matrix[2][2] - matrix[1][2] * matrix[2][0]) +\n",
    "            matrix[0][2] * (matrix[1][0] * matrix[2][1] - matrix[1][1] * matrix[2][0]))"
   ]
  },
  {
   "cell_type": "code",
   "execution_count": 2,
   "metadata": {
    "id": "64feqwWq7p5t"
   },
   "outputs": [],
   "source": [
    "def find_eigenvalues(matrix):\n",
    "    \"\"\"Find eigenvalues using the characteristic polynomial\"\"\"\n",
    "    # Characteristic equation is det(A - λI) = 0\n",
    "    # |A - λI| = λ^3 + aλ^2 + bλ + c = 0\n",
    "    a = - (matrix[0][0] + matrix[1][1] + matrix[2][2])  # trace of the matrix\n",
    "    b = (matrix[0][0] * matrix[1][1] + matrix[0][0] * matrix[2][2] + matrix[1][1] * matrix[2][2]\n",
    "         - matrix[0][1] * matrix[1][0] - matrix[0][2] * matrix[2][0] - matrix[1][2] * matrix[2][1])\n",
    "    c = - determinant_3x3(matrix)\n",
    "\n",
    "    # Solve cubic equation λ^3 + aλ^2 + bλ + c = 0 using Cardano's method\n",
    "    Q = (3 * b - a ** 2) / 9\n",
    "    R = (9 * a * b - 27 * c - 2 * a ** 3) / 54\n",
    "    D = Q ** 3 + R ** 2  # discriminant\n",
    "\n",
    "    if D >= 0:  # Real roots\n",
    "        S = math.copysign(abs(R + math.sqrt(D)) ** (1 / 3), R + math.sqrt(D))\n",
    "        T = math.copysign(abs(R - math.sqrt(D)) ** (1 / 3), R - math.sqrt(D))\n",
    "        eigenvalue1 = -a / 3 + (S + T)\n",
    "        eigenvalue2 = -a / 3 - (S + T) / 2\n",
    "        eigenvalue3 = eigenvalue2  # Since one root is repeated\n",
    "    else:  # Three distinct real roots\n",
    "        theta = math.acos(R / math.sqrt(-Q ** 3))\n",
    "        eigenvalue1 = 2 * math.sqrt(-Q) * math.cos(theta / 3) - a / 3\n",
    "        eigenvalue2 = 2 * math.sqrt(-Q) * math.cos((theta + 2 * math.pi) / 3) - a / 3\n",
    "        eigenvalue3 = 2 * math.sqrt(-Q) * math.cos((theta + 4 * math.pi) / 3) - a / 3\n",
    "\n",
    "    return [eigenvalue1, eigenvalue2, eigenvalue3]"
   ]
  },
  {
   "cell_type": "code",
   "execution_count": 5,
   "metadata": {
    "id": "pgtEX_D801RO"
   },
   "outputs": [],
   "source": [
    "def find_eigenvectors(matrix, eigenvalues):\n",
    "    \"\"\"Find eigenvectors by solving (A - λI)x = 0\"\"\"\n",
    "    eigenvectors = []\n",
    "    for eigenvalue in eigenvalues:\n",
    "        # Form matrix A - λI\n",
    "        modified_matrix = [[matrix[i][j] - (eigenvalue if i == j else 0) for j in range(3)] for i in range(3)]\n",
    "\n",
    "        if modified_matrix[0][0] != 0:\n",
    "            v2 = -modified_matrix[0][1] / modified_matrix[0][0]\n",
    "            v3 = -modified_matrix[0][2] / modified_matrix[0][0]\n",
    "            eigenvectors.append([1, v2, v3])\n",
    "        else:\n",
    "            eigenvectors.append([0, 0, 1])\n",
    "    return eigenvectors"
   ]
  },
  {
   "cell_type": "code",
   "execution_count": 6,
   "metadata": {
    "colab": {
     "base_uri": "https://localhost:8080/"
    },
    "id": "epYT567Z66rJ",
    "outputId": "3a728132-f395-4c65-b3dc-4e60e4388a66"
   },
   "outputs": [
    {
     "name": "stdout",
     "output_type": "stream",
     "text": [
      "Eigenvalues: [13.817246294560041, -1.5747546843295153, 2.757508389769476]\n",
      "Eigenvectors: [[1, -1.0314158445742379, 0.34380528152474593], [1, 0.6266479087782663, -0.20888263625942208], [1, 1.1444939631932318, -0.3814979877310773]]\n"
     ]
    }
   ],
   "source": [
    "matrix = [[8, -6, 2],\n",
    "          [-6, 4, -4],\n",
    "          [2, -4, 3]]\n",
    "\n",
    "eigenvalues = find_eigenvalues(matrix)\n",
    "eigenvectors = find_eigenvectors(matrix, eigenvalues)\n",
    "\n",
    "print(\"Eigenvalues:\", eigenvalues)\n",
    "print(\"Eigenvectors:\", eigenvectors)\n"
   ]
  },
  {
   "cell_type": "code",
   "execution_count": null,
   "metadata": {},
   "outputs": [],
   "source": []
  }
 ],
 "metadata": {
  "colab": {
   "provenance": []
  },
  "kernelspec": {
   "display_name": "Python 3 (ipykernel)",
   "language": "python",
   "name": "python3"
  },
  "language_info": {
   "codemirror_mode": {
    "name": "ipython",
    "version": 3
   },
   "file_extension": ".py",
   "mimetype": "text/x-python",
   "name": "python",
   "nbconvert_exporter": "python",
   "pygments_lexer": "ipython3",
   "version": "3.9.12"
  }
 },
 "nbformat": 4,
 "nbformat_minor": 4
}

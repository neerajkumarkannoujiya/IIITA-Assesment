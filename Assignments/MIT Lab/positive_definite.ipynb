{
 "cells": [
  {
   "cell_type": "code",
   "execution_count": 1,
   "id": "d2be7443",
   "metadata": {},
   "outputs": [
    {
     "name": "stdout",
     "output_type": "stream",
     "text": [
      "Matrix A:\n",
      "[2, -1, 0]\n",
      "[-1, 2, -1]\n",
      "[0, -1, 2]\n",
      "Is A positive definite? True\n",
      "\n",
      "Matrix B:\n",
      "[1, 2]\n",
      "[2, -3]\n",
      "Is B positive definite? False\n"
     ]
    }
   ],
   "source": [
    "# Function to compute determinant of a matrix (generalized for n x n matrices)\n",
    "def determinant(mat):\n",
    "    n = len(mat)\n",
    "    if n == 1:\n",
    "        return mat[0][0]\n",
    "    elif n == 2:\n",
    "        return mat[0][0] * mat[1][1] - mat[0][1] * mat[1][0]\n",
    "    det = 0\n",
    "    for col in range(n):\n",
    "        sub_matrix = [row[:col] + row[col+1:] for row in mat[1:]]\n",
    "        det += ((-1) ** col) * mat[0][col] * determinant(sub_matrix)\n",
    "    return det\n",
    "\n",
    "# Function to check symmetry of the matrix\n",
    "def is_symmetric(mat):\n",
    "    n = len(mat)\n",
    "    for i in range(n):\n",
    "        for j in range(n):\n",
    "            if mat[i][j] != mat[j][i]:\n",
    "                return False\n",
    "    return True\n",
    "\n",
    "# Function to check positive definiteness\n",
    "def is_positive_definite(mat):\n",
    "    if not is_symmetric(mat):\n",
    "        return False  # Must be symmetric\n",
    "    n = len(mat)\n",
    "    for k in range(1, n + 1):  # Check leading principal minors\n",
    "        sub_matrix = [row[:k] for row in mat[:k]]\n",
    "        if determinant(sub_matrix) <= 0:\n",
    "            return False\n",
    "    return True\n",
    "\n",
    "# Example matrices\n",
    "A = [\n",
    "    [2, -1, 0],\n",
    "    [-1, 2, -1],\n",
    "    [0, -1, 2]\n",
    "]  # Positive definite matrix\n",
    "\n",
    "B = [\n",
    "    [1, 2],\n",
    "    [2, -3]\n",
    "]  # Not positive definite\n",
    "\n",
    "print(\"Matrix A:\")\n",
    "for row in A:\n",
    "    print(row)\n",
    "print(\"Is A positive definite?\", is_positive_definite(A))\n",
    "\n",
    "print(\"\\nMatrix B:\")\n",
    "for row in B:\n",
    "    print(row)\n",
    "print(\"Is B positive definite?\", is_positive_definite(B))\n"
   ]
  }
 ],
 "metadata": {
  "kernelspec": {
   "display_name": "Python 3 (ipykernel)",
   "language": "python",
   "name": "python3"
  },
  "language_info": {
   "codemirror_mode": {
    "name": "ipython",
    "version": 3
   },
   "file_extension": ".py",
   "mimetype": "text/x-python",
   "name": "python",
   "nbconvert_exporter": "python",
   "pygments_lexer": "ipython3",
   "version": "3.9.12"
  }
 },
 "nbformat": 4,
 "nbformat_minor": 5
}

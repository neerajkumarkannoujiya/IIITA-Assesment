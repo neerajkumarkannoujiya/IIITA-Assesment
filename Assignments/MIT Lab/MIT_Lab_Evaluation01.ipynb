{
  "nbformat": 4,
  "nbformat_minor": 0,
  "metadata": {
    "colab": {
      "provenance": [],
      "toc_visible": true
    },
    "kernelspec": {
      "name": "python3",
      "display_name": "Python 3"
    },
    "language_info": {
      "name": "python"
    }
  },
  "cells": [
    {
      "cell_type": "markdown",
      "source": [
        "**Creating matrix input function**"
      ],
      "metadata": {
        "id": "7Ktzx1POa-h5"
      }
    },
    {
      "cell_type": "code",
      "execution_count": null,
      "metadata": {
        "id": "bPo5iBBua5Qw"
      },
      "outputs": [],
      "source": [
        "def take_input():\n",
        "  row = int(input(\"Enter row size : \"))\n",
        "  col = int(input(\"Enter col size : \"))\n",
        "\n",
        "  matrix = []\n",
        "  for i in range (row):\n",
        "    row = list(map(float,input().split()))\n",
        "    matrix.append(row)\n",
        "\n",
        "  return matrix"
      ]
    },
    {
      "cell_type": "markdown",
      "source": [
        "**Taking matrix input**"
      ],
      "metadata": {
        "id": "MmISidgjcEbz"
      }
    },
    {
      "cell_type": "code",
      "source": [
        "matrix = take_input()\n",
        "\n",
        "for i in matrix:\n",
        "  print(i)"
      ],
      "metadata": {
        "colab": {
          "base_uri": "https://localhost:8080/"
        },
        "id": "bnESjnMVcDuM",
        "outputId": "4dfd9e70-dfbf-4ebd-82d2-b727190dc8f6"
      },
      "execution_count": null,
      "outputs": [
        {
          "output_type": "stream",
          "name": "stdout",
          "text": [
            "Enter row size : 2\n",
            "Enter col size : 2\n",
            "2 3\n",
            "2 3\n",
            "[2.0, 3.0]\n",
            "[2.0, 3.0]\n"
          ]
        }
      ]
    },
    {
      "cell_type": "markdown",
      "source": [
        "**Implementing Determinant of matrix**"
      ],
      "metadata": {
        "id": "XZ3HrkX5ktoX"
      }
    },
    {
      "cell_type": "code",
      "source": [
        "def determinant(matrix):\n",
        "  if len(matrix)==2:\n",
        "    return matrix[0][0] * matrix[1][1] - matrix[0][1] * matrix[1][0]\n",
        "\n",
        "  det = 0\n",
        "  for i in range(len(matrix)):\n",
        "    sub_mat = [row[:i] + row[i+1:] for row in matrix[1:]]\n",
        "    det += ((-1) **i) * matrix[0][i] * determinant(sub_mat)\n",
        "\n",
        "  return det"
      ],
      "metadata": {
        "id": "_yqFYYCJk0f2"
      },
      "execution_count": null,
      "outputs": []
    },
    {
      "cell_type": "markdown",
      "source": [
        "Finding determinant of given matrix = [[2, 4, 2, 4],\n",
        "                                       [2, 6, 4, 4],\n",
        "                                       [4, 8, 6, 8],\n",
        "                                       [6, 14,8, 12]]"
      ],
      "metadata": {
        "id": "yvfNVpgEmGkk"
      }
    },
    {
      "cell_type": "code",
      "source": [
        "matrix = take_input()\n",
        "\n",
        "det = determinant(matrix)\n",
        "\n",
        "print(\"The determinant is : \",det)"
      ],
      "metadata": {
        "colab": {
          "base_uri": "https://localhost:8080/"
        },
        "id": "di8y-bQSmkDT",
        "outputId": "097e9d81-c77b-4928-e947-3d74d8284557"
      },
      "execution_count": null,
      "outputs": [
        {
          "output_type": "stream",
          "name": "stdout",
          "text": [
            "Enter row size : 4\n",
            "Enter col size : 4\n",
            "2 4 2 4\n",
            "2 6 4 4\n",
            "4 8 6 8\n",
            "6 14 8 12\n",
            "The determinant is :  0.0\n"
          ]
        }
      ]
    },
    {
      "cell_type": "markdown",
      "source": [
        "**Finding Rank of matrix**"
      ],
      "metadata": {
        "id": "iGFdZ2v5nvNx"
      }
    },
    {
      "cell_type": "code",
      "source": [
        "\n",
        "def find_rank(matrix):\n",
        "  def swap(matrix,r1,r2):\n",
        "    matrix[r1],matrix[r2] = matrix[r2],matrix[r1]\n",
        "\n",
        "  row = len(matrix)\n",
        "  col = len(matrix[0])\n",
        "  rank = 0\n",
        "\n",
        "  for r in range(row):\n",
        "    if matrix[r][rank] != 0:\n",
        "      for i in range(r+1,row):\n",
        "        fac = matrix[i][rank] / matrix[r][rank]\n",
        "        for j in range(rank,col):\n",
        "          matrix[i][j] -= fac * matrix[r][j]\n",
        "      rank +=1\n",
        "    else:\n",
        "      for i in range(r+1,row):\n",
        "        if matrix[i][rank] != 0:\n",
        "          swap(matrix,row,i)\n",
        "          rank +=1\n",
        "          break\n",
        "  return rank\n",
        "\n",
        "matrix = take_input()\n",
        "\n",
        "rank = find_rank(matrix)\n",
        "\n",
        "print(\"Rank of Matrix is : \",rank)\n",
        "\n",
        "\n"
      ],
      "metadata": {
        "colab": {
          "base_uri": "https://localhost:8080/"
        },
        "id": "eiaS9h7An1oB",
        "outputId": "2e9bfde0-5103-4b59-d26a-41374e4ce699"
      },
      "execution_count": null,
      "outputs": [
        {
          "output_type": "stream",
          "name": "stdout",
          "text": [
            "Enter row size : 4\n",
            "Enter col size : 4\n",
            "2 4 2 4\n",
            "2 6 4 4\n",
            "4 8 6 8\n",
            "6 14 8 12\n",
            "Rank of Matrix is :  3\n"
          ]
        }
      ]
    },
    {
      "cell_type": "markdown",
      "source": [
        "**Finding Nullity of matrix**"
      ],
      "metadata": {
        "id": "w63IE8wSrvLY"
      }
    },
    {
      "cell_type": "code",
      "source": [
        "matrix = take_input()\n",
        "def nullity_find(matrix):\n",
        "  n = len(matrix[0])\n",
        "  rank = find_rank(matrix)\n",
        "\n",
        "  return n - r\n",
        "\n",
        "nullity = nullity_find(matrix)\n",
        "print(\"The nullity of matrix is : \",nullity)"
      ],
      "metadata": {
        "colab": {
          "base_uri": "https://localhost:8080/"
        },
        "id": "pI3E--vWr1yT",
        "outputId": "65864843-ab4a-499a-fda3-bc4e163b091e"
      },
      "execution_count": null,
      "outputs": [
        {
          "output_type": "stream",
          "name": "stdout",
          "text": [
            "Enter row size : 4\n",
            "Enter col size : 4\n",
            "2 4 2 4\n",
            "2 6 4 4\n",
            "4 8 6 8\n",
            "6 14 8 12\n",
            "The nullity of matrix is :  1\n"
          ]
        }
      ]
    }
  ]
}